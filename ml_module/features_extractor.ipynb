{
 "cells": [
  {
   "cell_type": "code",
   "execution_count": 1,
   "metadata": {},
   "outputs": [],
   "source": [
    "import json\n",
    "import pandas as pd\n",
    "import numpy as np\n",
    "import json\n",
    "from sklearn.preprocessing import Imputer\n",
    "\n",
    "df = pd.read_json(\"/home/alena/Documents/underpriced/aggregation_module/flats.json\", orient='values')"
   ]
  },
  {
   "cell_type": "code",
   "execution_count": 2,
   "metadata": {},
   "outputs": [],
   "source": [
    "df['id'] = df['url'].map(lambda url: int(url.split('/')[5]))"
   ]
  },
  {
   "cell_type": "code",
   "execution_count": 3,
   "metadata": {},
   "outputs": [],
   "source": [
    "df.set_index(df['id'], inplace=True)\n",
    "df = df.drop('id', axis=1)"
   ]
  },
  {
   "cell_type": "code",
   "execution_count": 4,
   "metadata": {},
   "outputs": [
    {
     "data": {
      "text/html": [
       "<div>\n",
       "<style>\n",
       "    .dataframe thead tr:only-child th {\n",
       "        text-align: right;\n",
       "    }\n",
       "\n",
       "    .dataframe thead th {\n",
       "        text-align: left;\n",
       "    }\n",
       "\n",
       "    .dataframe tbody tr th {\n",
       "        vertical-align: top;\n",
       "    }\n",
       "</style>\n",
       "<table border=\"1\" class=\"dataframe\">\n",
       "  <thead>\n",
       "    <tr style=\"text-align: right;\">\n",
       "      <th></th>\n",
       "      <th>apartment_status</th>\n",
       "      <th>area</th>\n",
       "      <th>balcony</th>\n",
       "      <th>ceiling_height</th>\n",
       "      <th>combined_bathroom_count</th>\n",
       "      <th>construction_year</th>\n",
       "      <th>description</th>\n",
       "      <th>district</th>\n",
       "      <th>elevator</th>\n",
       "      <th>floor</th>\n",
       "      <th>...</th>\n",
       "      <th>ramp</th>\n",
       "      <th>repair</th>\n",
       "      <th>room_area</th>\n",
       "      <th>room_type</th>\n",
       "      <th>rooms</th>\n",
       "      <th>sleeping_place_count</th>\n",
       "      <th>split_bathroom_count</th>\n",
       "      <th>underground</th>\n",
       "      <th>url</th>\n",
       "      <th>view</th>\n",
       "    </tr>\n",
       "    <tr>\n",
       "      <th>id</th>\n",
       "      <th></th>\n",
       "      <th></th>\n",
       "      <th></th>\n",
       "      <th></th>\n",
       "      <th></th>\n",
       "      <th></th>\n",
       "      <th></th>\n",
       "      <th></th>\n",
       "      <th></th>\n",
       "      <th></th>\n",
       "      <th></th>\n",
       "      <th></th>\n",
       "      <th></th>\n",
       "      <th></th>\n",
       "      <th></th>\n",
       "      <th></th>\n",
       "      <th></th>\n",
       "      <th></th>\n",
       "      <th></th>\n",
       "      <th></th>\n",
       "      <th></th>\n",
       "    </tr>\n",
       "  </thead>\n",
       "  <tbody>\n",
       "    <tr>\n",
       "      <th>165811768</th>\n",
       "      <td>NaN</td>\n",
       "      <td>54</td>\n",
       "      <td>есть балкон</td>\n",
       "      <td>NaN</td>\n",
       "      <td>NaN</td>\n",
       "      <td>NaN</td>\n",
       "      <td>Сдается 2-х комнатная квартира в идеальном сос...</td>\n",
       "      <td>Можайский</td>\n",
       "      <td>1 пасс. + 1 груз.</td>\n",
       "      <td>13 / 16</td>\n",
       "      <td>...</td>\n",
       "      <td>NaN</td>\n",
       "      <td>евроремонт</td>\n",
       "      <td>15+18</td>\n",
       "      <td>NaN</td>\n",
       "      <td>2</td>\n",
       "      <td>NaN</td>\n",
       "      <td>1.0</td>\n",
       "      <td>{}</td>\n",
       "      <td>https://www.cian.ru/rent/flat/165811768/</td>\n",
       "      <td>двор</td>\n",
       "    </tr>\n",
       "    <tr>\n",
       "      <th>158139251</th>\n",
       "      <td>NaN</td>\n",
       "      <td>18</td>\n",
       "      <td>нет</td>\n",
       "      <td>NaN</td>\n",
       "      <td>1.0</td>\n",
       "      <td>1952.0</td>\n",
       "      <td>ВСЕ ВКЛЮЧЕНО, НИ КАКИХ ДОПОЛНИТЕЛЬНЫХ ПЛАТЕЖЕЙ...</td>\n",
       "      <td>Восточное Измайлово</td>\n",
       "      <td>NaN</td>\n",
       "      <td>5 / 6</td>\n",
       "      <td>...</td>\n",
       "      <td>NaN</td>\n",
       "      <td>евроремонт</td>\n",
       "      <td>14</td>\n",
       "      <td>NaN</td>\n",
       "      <td>студия на длительный срок (от года)</td>\n",
       "      <td>NaN</td>\n",
       "      <td>NaN</td>\n",
       "      <td>{'Первомайская': '15 мин. пешком', 'Измайловск...</td>\n",
       "      <td>https://www.cian.ru/rent/flat/158139251/</td>\n",
       "      <td>улица</td>\n",
       "    </tr>\n",
       "    <tr>\n",
       "      <th>165841067</th>\n",
       "      <td>NaN</td>\n",
       "      <td>35</td>\n",
       "      <td>нет</td>\n",
       "      <td>2,64 м</td>\n",
       "      <td>1.0</td>\n",
       "      <td>1970.0</td>\n",
       "      <td>Отличное предложение! Cдается 1кмнт кв с дизай...</td>\n",
       "      <td>Мещанский</td>\n",
       "      <td>1 пасс.</td>\n",
       "      <td>9 / 9</td>\n",
       "      <td>...</td>\n",
       "      <td>NaN</td>\n",
       "      <td>дизайнерский</td>\n",
       "      <td>19</td>\n",
       "      <td>NaN</td>\n",
       "      <td>1</td>\n",
       "      <td>NaN</td>\n",
       "      <td>NaN</td>\n",
       "      <td>{'Проспект Мира': '8 мин. пешком', 'Рижская': ...</td>\n",
       "      <td>https://www.cian.ru/rent/flat/165841067/</td>\n",
       "      <td>двор и улица</td>\n",
       "    </tr>\n",
       "    <tr>\n",
       "      <th>165361751</th>\n",
       "      <td>NaN</td>\n",
       "      <td>73</td>\n",
       "      <td>нет</td>\n",
       "      <td>NaN</td>\n",
       "      <td>1.0</td>\n",
       "      <td>1914.0</td>\n",
       "      <td>89670336319 СДАЕТСЯ ВПЕРВЫЕ!!!!ХОРОШИЙ БОНУС А...</td>\n",
       "      <td>Басманный</td>\n",
       "      <td>1 пасс.</td>\n",
       "      <td>3 / 6</td>\n",
       "      <td>...</td>\n",
       "      <td>NaN</td>\n",
       "      <td>дизайнерский</td>\n",
       "      <td>16-18</td>\n",
       "      <td>изолированная</td>\n",
       "      <td>2</td>\n",
       "      <td>NaN</td>\n",
       "      <td>NaN</td>\n",
       "      <td>{'Китай-город': '4 мин. пешком', 'Лубянка': '1...</td>\n",
       "      <td>https://www.cian.ru/rent/flat/165361751/</td>\n",
       "      <td>двор</td>\n",
       "    </tr>\n",
       "    <tr>\n",
       "      <th>164117640</th>\n",
       "      <td>NaN</td>\n",
       "      <td>98</td>\n",
       "      <td>нет</td>\n",
       "      <td>NaN</td>\n",
       "      <td>1.0</td>\n",
       "      <td>2010.0</td>\n",
       "      <td>+7 (965) 202-57-40. Предлагается в аренду 3-х ...</td>\n",
       "      <td>Тропарёво-Никулино</td>\n",
       "      <td>1 пасс. + 1 груз.</td>\n",
       "      <td>27 / 37</td>\n",
       "      <td>...</td>\n",
       "      <td>NaN</td>\n",
       "      <td>дизайнерский</td>\n",
       "      <td>25-20-18</td>\n",
       "      <td>NaN</td>\n",
       "      <td>3</td>\n",
       "      <td>NaN</td>\n",
       "      <td>NaN</td>\n",
       "      <td>{'Тропарево': '12 мин. пешком', 'Юго-Западная'...</td>\n",
       "      <td>https://www.cian.ru/rent/flat/164117640/</td>\n",
       "      <td>NaN</td>\n",
       "    </tr>\n",
       "  </tbody>\n",
       "</table>\n",
       "<p>5 rows × 26 columns</p>\n",
       "</div>"
      ],
      "text/plain": [
       "          apartment_status area      balcony ceiling_height  \\\n",
       "id                                                            \n",
       "165811768              NaN  54   есть балкон            NaN   \n",
       "158139251              NaN  18           нет            NaN   \n",
       "165841067              NaN  35           нет         2,64 м   \n",
       "165361751              NaN  73           нет            NaN   \n",
       "164117640              NaN  98           нет            NaN   \n",
       "\n",
       "           combined_bathroom_count  construction_year  \\\n",
       "id                                                      \n",
       "165811768                      NaN                NaN   \n",
       "158139251                      1.0             1952.0   \n",
       "165841067                      1.0             1970.0   \n",
       "165361751                      1.0             1914.0   \n",
       "164117640                      1.0             2010.0   \n",
       "\n",
       "                                                 description  \\\n",
       "id                                                             \n",
       "165811768  Сдается 2-х комнатная квартира в идеальном сос...   \n",
       "158139251  ВСЕ ВКЛЮЧЕНО, НИ КАКИХ ДОПОЛНИТЕЛЬНЫХ ПЛАТЕЖЕЙ...   \n",
       "165841067  Отличное предложение! Cдается 1кмнт кв с дизай...   \n",
       "165361751  89670336319 СДАЕТСЯ ВПЕРВЫЕ!!!!ХОРОШИЙ БОНУС А...   \n",
       "164117640  +7 (965) 202-57-40. Предлагается в аренду 3-х ...   \n",
       "\n",
       "                      district           elevator    floor      ...      ramp  \\\n",
       "id                                                              ...             \n",
       "165811768            Можайский  1 пасс. + 1 груз.  13 / 16      ...       NaN   \n",
       "158139251  Восточное Измайлово                NaN    5 / 6      ...       NaN   \n",
       "165841067            Мещанский            1 пасс.    9 / 9      ...       NaN   \n",
       "165361751            Басманный            1 пасс.    3 / 6      ...       NaN   \n",
       "164117640   Тропарёво-Никулино  1 пасс. + 1 груз.  27 / 37      ...       NaN   \n",
       "\n",
       "                 repair  room_area      room_type  \\\n",
       "id                                                  \n",
       "165811768    евроремонт     15+18             NaN   \n",
       "158139251    евроремонт        14             NaN   \n",
       "165841067  дизайнерский        19             NaN   \n",
       "165361751  дизайнерский     16-18   изолированная   \n",
       "164117640  дизайнерский  25-20-18             NaN   \n",
       "\n",
       "                                         rooms sleeping_place_count  \\\n",
       "id                                                                    \n",
       "165811768                                    2                  NaN   \n",
       "158139251  студия на длительный срок (от года)                  NaN   \n",
       "165841067                                    1                  NaN   \n",
       "165361751                                    2                  NaN   \n",
       "164117640                                    3                  NaN   \n",
       "\n",
       "          split_bathroom_count  \\\n",
       "id                               \n",
       "165811768                  1.0   \n",
       "158139251                  NaN   \n",
       "165841067                  NaN   \n",
       "165361751                  NaN   \n",
       "164117640                  NaN   \n",
       "\n",
       "                                                 underground  \\\n",
       "id                                                             \n",
       "165811768                                                 {}   \n",
       "158139251  {'Первомайская': '15 мин. пешком', 'Измайловск...   \n",
       "165841067  {'Проспект Мира': '8 мин. пешком', 'Рижская': ...   \n",
       "165361751  {'Китай-город': '4 мин. пешком', 'Лубянка': '1...   \n",
       "164117640  {'Тропарево': '12 мин. пешком', 'Юго-Западная'...   \n",
       "\n",
       "                                                url          view  \n",
       "id                                                                 \n",
       "165811768  https://www.cian.ru/rent/flat/165811768/          двор  \n",
       "158139251  https://www.cian.ru/rent/flat/158139251/         улица  \n",
       "165841067  https://www.cian.ru/rent/flat/165841067/  двор и улица  \n",
       "165361751  https://www.cian.ru/rent/flat/165361751/          двор  \n",
       "164117640  https://www.cian.ru/rent/flat/164117640/           NaN  \n",
       "\n",
       "[5 rows x 26 columns]"
      ]
     },
     "execution_count": 4,
     "metadata": {},
     "output_type": "execute_result"
    }
   ],
   "source": [
    "df.head()"
   ]
  },
  {
   "cell_type": "code",
   "execution_count": 5,
   "metadata": {},
   "outputs": [
    {
     "name": "stdout",
     "output_type": "stream",
     "text": [
      "<class 'pandas.core.frame.DataFrame'>\n",
      "Int64Index: 3735 entries, 165811768 to 158738607\n",
      "Data columns (total 26 columns):\n",
      "apartment_status           35 non-null object\n",
      "area                       3735 non-null object\n",
      "balcony                    3735 non-null object\n",
      "ceiling_height             1153 non-null object\n",
      "combined_bathroom_count    1689 non-null float64\n",
      "construction_year          2120 non-null float64\n",
      "description                3735 non-null object\n",
      "district                   3735 non-null object\n",
      "elevator                   2954 non-null object\n",
      "floor                      3733 non-null object\n",
      "house_type                 2704 non-null object\n",
      "images                     3735 non-null object\n",
      "kitchen_area               3735 non-null object\n",
      "living_area                3735 non-null object\n",
      "parking                    1199 non-null object\n",
      "price                      3735 non-null object\n",
      "ramp                       332 non-null object\n",
      "repair                     3141 non-null object\n",
      "room_area                  3735 non-null object\n",
      "room_type                  1120 non-null object\n",
      "rooms                      3735 non-null object\n",
      "sleeping_place_count       1 non-null float64\n",
      "split_bathroom_count       1540 non-null float64\n",
      "underground                3735 non-null object\n",
      "url                        3735 non-null object\n",
      "view                       2355 non-null object\n",
      "dtypes: float64(4), object(22)\n",
      "memory usage: 787.9+ KB\n"
     ]
    }
   ],
   "source": [
    "df.info()"
   ]
  },
  {
   "cell_type": "code",
   "execution_count": 6,
   "metadata": {},
   "outputs": [
    {
     "data": {
      "text/plain": [
       "{'rub_price': '50000'}     605\n",
       "{'rub_price': '100000'}    495\n",
       "{'rub_price': '55000'}     442\n",
       "{'rub_price': '180000'}    410\n",
       "{'rub_price': '80000'}     304\n",
       "{'rub_price': '170000'}    238\n",
       "{'rub_price': '85000'}     231\n",
       "{'rub_price': '190000'}    180\n",
       "{'rub_price': '160000'}    168\n",
       "{'rub_price': '105000'}     76\n",
       "Name: price, dtype: int64"
      ]
     },
     "execution_count": 6,
     "metadata": {},
     "output_type": "execute_result"
    }
   ],
   "source": [
    "# Частотное распределение данных в столбце цена\n",
    "df['price'].value_counts()[:10]"
   ]
  },
  {
   "cell_type": "markdown",
   "metadata": {},
   "source": [
    "## Work with features"
   ]
  },
  {
   "cell_type": "code",
   "execution_count": 7,
   "metadata": {},
   "outputs": [],
   "source": [
    "df = df.drop('apartment_status', axis=1)"
   ]
  },
  {
   "cell_type": "code",
   "execution_count": 8,
   "metadata": {},
   "outputs": [],
   "source": [
    "df['has_balcony'] = df['balcony'].map(lambda x: 1 if x.find(u'есть балкон') != -1 else 0)\n",
    "df['has_loggia'] = df['balcony'].map(lambda x: 1 if x.find(u'есть лоджия') != -1 else 0)\n",
    "df = df.drop('balcony', axis=1)"
   ]
  },
  {
   "cell_type": "code",
   "execution_count": 9,
   "metadata": {},
   "outputs": [],
   "source": [
    "df['ceiling_height'].isnull().sum() # 2582 null out of 3735\n",
    "df = df.drop('ceiling_height', axis=1)"
   ]
  },
  {
   "cell_type": "code",
   "execution_count": 10,
   "metadata": {},
   "outputs": [],
   "source": [
    "# fill with mean\n",
    "imputer = Imputer(missing_values=np.nan, strategy=\"median\", axis=0)\n",
    "df['construction_year'] = imputer.fit_transform(df['construction_year'].values.reshape(-1, 1))\n",
    "df['construction_year'] = df['construction_year'].map(lambda x: int(x))"
   ]
  },
  {
   "cell_type": "code",
   "execution_count": 11,
   "metadata": {},
   "outputs": [],
   "source": [
    "imputer = Imputer(missing_values=np.nan, strategy=\"median\", axis=0)\n",
    "df['combined_bathroom_count'] = imputer.fit_transform(df['combined_bathroom_count'].values.reshape(-1, 1))\n",
    "df['combined_bathroom_count'] = df['combined_bathroom_count'].map(lambda x: int(x))"
   ]
  },
  {
   "cell_type": "code",
   "execution_count": 12,
   "metadata": {},
   "outputs": [],
   "source": [
    "df = df.drop('description', axis=1)"
   ]
  },
  {
   "cell_type": "code",
   "execution_count": 13,
   "metadata": {},
   "outputs": [],
   "source": [
    "df['room_type'].isnull().sum() # 2615 out of 3735\n",
    "df = df.drop('room_type', axis=1)"
   ]
  },
  {
   "cell_type": "code",
   "execution_count": 14,
   "metadata": {},
   "outputs": [],
   "source": [
    "df['living_area'] = df['living_area'].map(lambda x: x.replace(',', '.') if ',' in x else x)\n",
    "df.loc[df.living_area == '–', 'living_area'] = np.nan\n",
    "df['living_area'] = df['living_area'].map(lambda x: float(x) if x is not None else x)\n",
    "imputer = Imputer(missing_values=np.nan, strategy=\"mean\", axis=0)\n",
    "df['living_area'] = imputer.fit_transform(df['living_area'].values.reshape(-1, 1))"
   ]
  },
  {
   "cell_type": "code",
   "execution_count": 15,
   "metadata": {},
   "outputs": [],
   "source": [
    "df['kitchen_area'] = df['kitchen_area'].map(lambda x: x.replace(',', '.') if ',' in x else x)\n",
    "df.loc[df.kitchen_area == '–', 'kitchen_area'] = np.nan\n",
    "df['kitchen_area'] = df['kitchen_area'].map(lambda x: float(x) if x is not None else x)\n",
    "imputer = Imputer(missing_values=np.nan, strategy=\"mean\", axis=0)\n",
    "df['kitchen_area'] = imputer.fit_transform(df['kitchen_area'].values.reshape(-1, 1)) "
   ]
  },
  {
   "cell_type": "code",
   "execution_count": 16,
   "metadata": {},
   "outputs": [],
   "source": [
    "df['parking'].isnull().sum() # 2536 null out of 3735\n",
    "df = df.drop('parking', axis=1)"
   ]
  },
  {
   "cell_type": "code",
   "execution_count": 17,
   "metadata": {},
   "outputs": [],
   "source": [
    "df['ramp'].isnull().sum() # 3403 null out of 3735\n",
    "df = df.drop('ramp', axis=1)"
   ]
  },
  {
   "cell_type": "code",
   "execution_count": 18,
   "metadata": {},
   "outputs": [
    {
     "data": {
      "text/plain": [
       "не указано             1031\n",
       "кирпичный               985\n",
       "панельный               745\n",
       "монолитный              602\n",
       "кирпично-монолитный     159\n",
       "блочный                 102\n",
       "сталинский              100\n",
       "старый фонд              10\n",
       "деревянный                1\n",
       "Name: house_type, dtype: int64"
      ]
     },
     "execution_count": 18,
     "metadata": {},
     "output_type": "execute_result"
    }
   ],
   "source": [
    "df['house_type'].fillna('не указано', inplace=True) # 1031 out of 3735\n",
    "df['house_type'].value_counts()"
   ]
  },
  {
   "cell_type": "code",
   "execution_count": 19,
   "metadata": {},
   "outputs": [],
   "source": [
    "df['floor'].fillna('0 / 0', inplace=True)\n",
    "df['curr_floor'] = df['floor'].map(lambda x: int(str(x).split(' / ')[0]))\n",
    "df['total_floor'] = df['floor'].map(lambda x: int(str(x).split(' / ')[1]))\n",
    "df = df.drop('floor', axis=1)"
   ]
  },
  {
   "cell_type": "code",
   "execution_count": 20,
   "metadata": {},
   "outputs": [],
   "source": [
    "df = df.drop('images', axis=1)"
   ]
  },
  {
   "cell_type": "code",
   "execution_count": 21,
   "metadata": {},
   "outputs": [],
   "source": [
    "df = df.drop('district', axis=1)"
   ]
  },
  {
   "cell_type": "code",
   "execution_count": 22,
   "metadata": {},
   "outputs": [],
   "source": [
    "df = df.drop('room_area', axis=1)"
   ]
  },
  {
   "cell_type": "code",
   "execution_count": 23,
   "metadata": {},
   "outputs": [],
   "source": [
    "df['elevator'].isnull().sum() # 781 out of 3735\n",
    "df = df.drop('elevator', axis=1)"
   ]
  },
  {
   "cell_type": "code",
   "execution_count": 24,
   "metadata": {},
   "outputs": [
    {
     "data": {
      "text/plain": [
       "евроремонт       1807\n",
       "дизайнерский      692\n",
       "косметический     630\n",
       "не указано        594\n",
       "отсутствует        12\n",
       "Name: repair, dtype: int64"
      ]
     },
     "execution_count": 24,
     "metadata": {},
     "output_type": "execute_result"
    }
   ],
   "source": [
    "df['repair'].fillna('не указано', inplace=True)\n",
    "df['repair'].value_counts()"
   ]
  },
  {
   "cell_type": "code",
   "execution_count": 25,
   "metadata": {},
   "outputs": [],
   "source": [
    "df['rooms'] = df['rooms'].map(lambda x: -1 if type(x) == str and x.find(u'студия') != -1 else x)\n",
    "df['rooms'] = df['rooms'].map(lambda x: 6 if type(x) == str and x.find(u'многокомн') != -1 else x)\n",
    "df['rooms'] = df['rooms'].map(lambda x: np.nan if type(x) == str \\\n",
    "                              and x == 'свободная планировка на длительный срок (от года)' else x)\n",
    "df = df.dropna(axis=0, how='any', subset=['rooms'])\n",
    "df['rooms'] = df['rooms'].map(lambda x: int(x))"
   ]
  },
  {
   "cell_type": "code",
   "execution_count": 26,
   "metadata": {},
   "outputs": [],
   "source": [
    "df['sleeping_place_count'].isnull().sum() # 3733 out of 3735\n",
    "df = df.drop('sleeping_place_count', axis=1)"
   ]
  },
  {
   "cell_type": "code",
   "execution_count": 27,
   "metadata": {},
   "outputs": [],
   "source": [
    "df['split_bathroom_count'].isnull().sum() # 2194 out of 3735\n",
    "df = df.drop('split_bathroom_count', axis=1)"
   ]
  },
  {
   "cell_type": "code",
   "execution_count": 28,
   "metadata": {},
   "outputs": [],
   "source": [
    "df = df.drop('url', axis=1)"
   ]
  },
  {
   "cell_type": "code",
   "execution_count": 29,
   "metadata": {},
   "outputs": [],
   "source": [
    "df = df.drop('view', axis=1)"
   ]
  },
  {
   "cell_type": "code",
   "execution_count": 30,
   "metadata": {},
   "outputs": [],
   "source": [
    "df['area'] = df['area'].map(lambda x: float(x.replace(',', '.')) if ',' in x else float(x))"
   ]
  },
  {
   "cell_type": "code",
   "execution_count": 31,
   "metadata": {},
   "outputs": [],
   "source": [
    "centered_subways = ['Белорусская', 'Проспект Мира', 'Комсомольская', 'Курская', 'Чкаловская', 'Марксисткая',\\\n",
    "                    'Таганская', 'Павелецкая', 'Добрынинская', 'Серпуховская', 'Октябрьская', 'Парк культуры',\\\n",
    "                    'Киевская', 'Краснопресненская', 'Баррикадная', 'Цветной бульвар', 'Сухаревская', 'Трубная',\\\n",
    "                    'Тургеневская', 'Чистые пруды', 'Красные Ворота', 'Сретенский бульвар', 'Кузнецкий Мост',\\\n",
    "                    'Маяковская', 'Тверская', 'Пушкинская', 'Чеховская', 'Смоленская', 'Арбатская', 'Александровский сад',\\\n",
    "                    'Боровицкая', 'Библиотека имени Ленина', 'Кропоткинская', 'Охотный ряд', 'Лубянка',\\\n",
    "                    'Театральная', 'Площадь Революции', 'Третьяковская', 'Новокузнецкая', 'Кропоткинская',\\\n",
    "                    'Полянка', 'Китай-город']"
   ]
  },
  {
   "cell_type": "code",
   "execution_count": 32,
   "metadata": {},
   "outputs": [],
   "source": [
    "centered_subways = [item.lower() for item in centered_subways]"
   ]
  },
  {
   "cell_type": "code",
   "execution_count": 33,
   "metadata": {},
   "outputs": [],
   "source": [
    "df['underground'] = df['underground'].map(lambda x: np.nan if x == {} else x) \n",
    "df = df.dropna(axis=0, how='any', subset=['underground'])"
   ]
  },
  {
   "cell_type": "code",
   "execution_count": 34,
   "metadata": {},
   "outputs": [],
   "source": [
    "def get_nearest_undergroud(descr):\n",
    "    if len(descr) == 1:\n",
    "        return list(descr.keys())[0]\n",
    "    \n",
    "    by_step = {}\n",
    "    by_car = {}\n",
    "    for subway in descr.keys():\n",
    "        if 'пешком' in descr[subway]:\n",
    "            by_step[subway] = int(descr[subway].split(' ')[0])\n",
    "        else:\n",
    "            by_car[subway] = int(descr[subway].split(' ')[0])\n",
    "    step_res = sorted(by_step, key=by_step.get)\n",
    "    car_res = sorted(by_car, key=by_car.get)\n",
    "    if len(by_step) == 0:\n",
    "        return car_res[0]\n",
    "    else:\n",
    "        return step_res[0]"
   ]
  },
  {
   "cell_type": "code",
   "execution_count": 35,
   "metadata": {},
   "outputs": [],
   "source": [
    "df['underground'] = df['underground'].map(lambda item: str(get_nearest_undergroud(item)).lower())"
   ]
  },
  {
   "cell_type": "code",
   "execution_count": 36,
   "metadata": {},
   "outputs": [],
   "source": [
    "df['is_center'] = df['underground'].map(lambda item: 1 if item in centered_subways else 0)"
   ]
  },
  {
   "cell_type": "code",
   "execution_count": 37,
   "metadata": {},
   "outputs": [],
   "source": [
    "df['price'] = df['price'].map(lambda item: item['rub_price'] if 'rub_price' in item else np.nan)\n",
    "df = df.dropna(axis=0, how='any', subset=['price'])\n",
    "df['price'] = df['price'].map(lambda item: int(item))"
   ]
  },
  {
   "cell_type": "markdown",
   "metadata": {},
   "source": [
    "## Data Analys"
   ]
  },
  {
   "cell_type": "code",
   "execution_count": 38,
   "metadata": {},
   "outputs": [
    {
     "name": "stdout",
     "output_type": "stream",
     "text": [
      "<class 'pandas.core.frame.DataFrame'>\n",
      "Int64Index: 3643 entries, 158139251 to 160128723\n",
      "Data columns (total 15 columns):\n",
      "area                       3643 non-null float64\n",
      "combined_bathroom_count    3643 non-null int64\n",
      "construction_year          3643 non-null int64\n",
      "house_type                 3643 non-null object\n",
      "kitchen_area               3643 non-null float64\n",
      "living_area                3643 non-null float64\n",
      "price                      3643 non-null int64\n",
      "repair                     3643 non-null object\n",
      "rooms                      3643 non-null int64\n",
      "underground                3643 non-null object\n",
      "has_balcony                3643 non-null int64\n",
      "has_loggia                 3643 non-null int64\n",
      "curr_floor                 3643 non-null int64\n",
      "total_floor                3643 non-null int64\n",
      "is_center                  3643 non-null int64\n",
      "dtypes: float64(3), int64(9), object(3)\n",
      "memory usage: 455.4+ KB\n"
     ]
    }
   ],
   "source": [
    "df.info()"
   ]
  },
  {
   "cell_type": "code",
   "execution_count": 40,
   "metadata": {},
   "outputs": [],
   "source": [
    "# Create X and Y for data analys"
   ]
  },
  {
   "cell_type": "code",
   "execution_count": 41,
   "metadata": {},
   "outputs": [
    {
     "data": {
      "text/plain": [
       "(3643, 15)"
      ]
     },
     "execution_count": 41,
     "metadata": {},
     "output_type": "execute_result"
    }
   ],
   "source": [
    "df.shape"
   ]
  },
  {
   "cell_type": "code",
   "execution_count": 42,
   "metadata": {},
   "outputs": [
    {
     "data": {
      "text/html": [
       "<div>\n",
       "<style>\n",
       "    .dataframe thead tr:only-child th {\n",
       "        text-align: right;\n",
       "    }\n",
       "\n",
       "    .dataframe thead th {\n",
       "        text-align: left;\n",
       "    }\n",
       "\n",
       "    .dataframe tbody tr th {\n",
       "        vertical-align: top;\n",
       "    }\n",
       "</style>\n",
       "<table border=\"1\" class=\"dataframe\">\n",
       "  <thead>\n",
       "    <tr style=\"text-align: right;\">\n",
       "      <th></th>\n",
       "      <th>area</th>\n",
       "      <th>combined_bathroom_count</th>\n",
       "      <th>construction_year</th>\n",
       "      <th>house_type</th>\n",
       "      <th>kitchen_area</th>\n",
       "      <th>living_area</th>\n",
       "      <th>price</th>\n",
       "      <th>repair</th>\n",
       "      <th>rooms</th>\n",
       "      <th>underground</th>\n",
       "      <th>has_balcony</th>\n",
       "      <th>has_loggia</th>\n",
       "      <th>curr_floor</th>\n",
       "      <th>total_floor</th>\n",
       "      <th>is_center</th>\n",
       "    </tr>\n",
       "    <tr>\n",
       "      <th>id</th>\n",
       "      <th></th>\n",
       "      <th></th>\n",
       "      <th></th>\n",
       "      <th></th>\n",
       "      <th></th>\n",
       "      <th></th>\n",
       "      <th></th>\n",
       "      <th></th>\n",
       "      <th></th>\n",
       "      <th></th>\n",
       "      <th></th>\n",
       "      <th></th>\n",
       "      <th></th>\n",
       "      <th></th>\n",
       "      <th></th>\n",
       "    </tr>\n",
       "  </thead>\n",
       "  <tbody>\n",
       "    <tr>\n",
       "      <th>158139251</th>\n",
       "      <td>18.0</td>\n",
       "      <td>1</td>\n",
       "      <td>1952</td>\n",
       "      <td>кирпичный</td>\n",
       "      <td>2.000000</td>\n",
       "      <td>14.0</td>\n",
       "      <td>28000</td>\n",
       "      <td>евроремонт</td>\n",
       "      <td>-1</td>\n",
       "      <td>первомайская</td>\n",
       "      <td>0</td>\n",
       "      <td>0</td>\n",
       "      <td>5</td>\n",
       "      <td>6</td>\n",
       "      <td>0</td>\n",
       "    </tr>\n",
       "    <tr>\n",
       "      <th>165841067</th>\n",
       "      <td>35.0</td>\n",
       "      <td>1</td>\n",
       "      <td>1970</td>\n",
       "      <td>панельный</td>\n",
       "      <td>6.000000</td>\n",
       "      <td>19.0</td>\n",
       "      <td>60000</td>\n",
       "      <td>дизайнерский</td>\n",
       "      <td>1</td>\n",
       "      <td>проспект мира</td>\n",
       "      <td>0</td>\n",
       "      <td>0</td>\n",
       "      <td>9</td>\n",
       "      <td>9</td>\n",
       "      <td>1</td>\n",
       "    </tr>\n",
       "    <tr>\n",
       "      <th>165361751</th>\n",
       "      <td>73.0</td>\n",
       "      <td>1</td>\n",
       "      <td>1914</td>\n",
       "      <td>кирпичный</td>\n",
       "      <td>19.000000</td>\n",
       "      <td>34.0</td>\n",
       "      <td>115000</td>\n",
       "      <td>дизайнерский</td>\n",
       "      <td>2</td>\n",
       "      <td>китай-город</td>\n",
       "      <td>0</td>\n",
       "      <td>0</td>\n",
       "      <td>3</td>\n",
       "      <td>6</td>\n",
       "      <td>1</td>\n",
       "    </tr>\n",
       "    <tr>\n",
       "      <th>164117640</th>\n",
       "      <td>98.0</td>\n",
       "      <td>1</td>\n",
       "      <td>2010</td>\n",
       "      <td>монолитный</td>\n",
       "      <td>12.969304</td>\n",
       "      <td>63.0</td>\n",
       "      <td>140000</td>\n",
       "      <td>дизайнерский</td>\n",
       "      <td>3</td>\n",
       "      <td>тропарево</td>\n",
       "      <td>0</td>\n",
       "      <td>0</td>\n",
       "      <td>27</td>\n",
       "      <td>37</td>\n",
       "      <td>0</td>\n",
       "    </tr>\n",
       "    <tr>\n",
       "      <th>165863255</th>\n",
       "      <td>38.0</td>\n",
       "      <td>1</td>\n",
       "      <td>1981</td>\n",
       "      <td>панельный</td>\n",
       "      <td>10.000000</td>\n",
       "      <td>20.0</td>\n",
       "      <td>18000</td>\n",
       "      <td>косметический</td>\n",
       "      <td>1</td>\n",
       "      <td>теплый стан</td>\n",
       "      <td>0</td>\n",
       "      <td>1</td>\n",
       "      <td>10</td>\n",
       "      <td>16</td>\n",
       "      <td>0</td>\n",
       "    </tr>\n",
       "  </tbody>\n",
       "</table>\n",
       "</div>"
      ],
      "text/plain": [
       "           area  combined_bathroom_count  construction_year  house_type  \\\n",
       "id                                                                        \n",
       "158139251  18.0                        1               1952   кирпичный   \n",
       "165841067  35.0                        1               1970   панельный   \n",
       "165361751  73.0                        1               1914   кирпичный   \n",
       "164117640  98.0                        1               2010  монолитный   \n",
       "165863255  38.0                        1               1981   панельный   \n",
       "\n",
       "           kitchen_area  living_area   price         repair  rooms  \\\n",
       "id                                                                   \n",
       "158139251      2.000000         14.0   28000     евроремонт     -1   \n",
       "165841067      6.000000         19.0   60000   дизайнерский      1   \n",
       "165361751     19.000000         34.0  115000   дизайнерский      2   \n",
       "164117640     12.969304         63.0  140000   дизайнерский      3   \n",
       "165863255     10.000000         20.0   18000  косметический      1   \n",
       "\n",
       "             underground  has_balcony  has_loggia  curr_floor  total_floor  \\\n",
       "id                                                                           \n",
       "158139251   первомайская            0           0           5            6   \n",
       "165841067  проспект мира            0           0           9            9   \n",
       "165361751    китай-город            0           0           3            6   \n",
       "164117640      тропарево            0           0          27           37   \n",
       "165863255    теплый стан            0           1          10           16   \n",
       "\n",
       "           is_center  \n",
       "id                    \n",
       "158139251          0  \n",
       "165841067          1  \n",
       "165361751          1  \n",
       "164117640          0  \n",
       "165863255          0  "
      ]
     },
     "execution_count": 42,
     "metadata": {},
     "output_type": "execute_result"
    }
   ],
   "source": [
    "df.head()"
   ]
  },
  {
   "cell_type": "markdown",
   "metadata": {},
   "source": [
    "## Coding categorial signs   \n",
    "We need to code underground, house_type, repair"
   ]
  },
  {
   "cell_type": "code",
   "execution_count": 43,
   "metadata": {},
   "outputs": [],
   "source": [
    "from sklearn.preprocessing import LabelEncoder\n",
    "from sklearn.preprocessing import OneHotEncoder\n",
    "\n",
    "\"\"\" \n",
    "Add to df new column with name 'column_name_le' consists of \n",
    "numbers of categories. Delete old column\n",
    "\"\"\"\n",
    "def encode_with_LabelEncoder(df, column_name):\n",
    "    label_encoder = LabelEncoder()\n",
    "    label_encoder.fit(df[column_name])\n",
    "    df[column_name+'_le'] = label_encoder.transform(df[column_name])\n",
    "    df.drop([column_name], axis=1, inplace=True)\n",
    "    return label_encoder\n",
    "\n",
    "\"\"\" \n",
    "Coding with existing LabelEncodet\n",
    "\"\"\"\n",
    "def encode_with_existing_LabelEncoder(df, column_name, label_encoder):\n",
    "    df[column_name+'_le'] = label_encoder.transform(df[column_name])\n",
    "    df.drop([column_name], axis=1, inplace=True)\n",
    "    \n",
    "\"\"\"\n",
    "Firstly, coding column with LableEncoder\n",
    "Then add in df new columns: column_name=category_i\n",
    "Usage: df, label_encoder = encode_with_OneHotEncoder_and_delete_column(df, column_name)\n",
    "\"\"\"\n",
    "def encode_with_OneHotEncoder_and_delete_column(df, column_name):\n",
    "    le_encoder = encode_with_LabelEncoder(df, column_name)\n",
    "    return perform_coding_and_delete_column(df, column_name, le_encoder), le_encoder\n",
    "\n",
    "\"\"\"\n",
    "Perform ordinary coding and deleting column\n",
    "\"\"\"\n",
    "def perform_coding_and_delete_column(df, column_name, le_encoder):\n",
    "    oh_encoder = OneHotEncoder(sparse=False)\n",
    "    oh_features = oh_encoder.fit_transform(df[column_name+'_le'].values.reshape(-1,1))\n",
    "    ohe_columns=[column_name + '=' + le_encoder.classes_[i] for i in range(oh_features.shape[1])]\n",
    "\n",
    "    df.drop([column_name+'_le'], axis=1, inplace=True)\n",
    "\n",
    "    df_with_features = pd.DataFrame(oh_features, columns=ohe_columns)\n",
    "    df_with_features.index = df.index\n",
    "    return pd.concat([df, df_with_features], axis=1)"
   ]
  },
  {
   "cell_type": "code",
   "execution_count": 44,
   "metadata": {},
   "outputs": [],
   "source": [
    "df, metro_le_encoder = encode_with_OneHotEncoder_and_delete_column(df,'underground')\n",
    "df, house_type_le_encoder = encode_with_OneHotEncoder_and_delete_column(df,'house_type')\n",
    "df, repair_le_encoder = encode_with_OneHotEncoder_and_delete_column(df,'repair')"
   ]
  },
  {
   "cell_type": "code",
   "execution_count": 45,
   "metadata": {},
   "outputs": [],
   "source": [
    "df.to_csv('flats_features.csv')"
   ]
  },
  {
   "cell_type": "code",
   "execution_count": 46,
   "metadata": {},
   "outputs": [
    {
     "data": {
      "text/plain": [
       "(3643, 229)"
      ]
     },
     "execution_count": 46,
     "metadata": {},
     "output_type": "execute_result"
    }
   ],
   "source": [
    "df.shape"
   ]
  }
 ],
 "metadata": {
  "kernelspec": {
   "display_name": "Python 3",
   "language": "python",
   "name": "python3"
  },
  "language_info": {
   "codemirror_mode": {
    "name": "ipython",
    "version": 3
   },
   "file_extension": ".py",
   "mimetype": "text/x-python",
   "name": "python",
   "nbconvert_exporter": "python",
   "pygments_lexer": "ipython3",
   "version": "3.5.3"
  }
 },
 "nbformat": 4,
 "nbformat_minor": 2
}
