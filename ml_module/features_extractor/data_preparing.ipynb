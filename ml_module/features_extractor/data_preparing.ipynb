{
 "cells": [
  {
   "cell_type": "code",
   "execution_count": 130,
   "metadata": {},
   "outputs": [],
   "source": [
    "import sys\n",
    "sys.path.append('../../')\n",
    "\n",
    "import json\n",
    "import pandas as pd\n",
    "import numpy as np\n",
    "from core.database import get_client\n",
    "from sklearn.preprocessing import Imputer\n",
    "from utils import centered_subways, get_nearest_undergroud, encode_with_OneHotEncoder_and_delete_column, encode_with_LabelEncoder, perform_coding_and_delete_column"
   ]
  },
  {
   "cell_type": "code",
   "execution_count": 131,
   "metadata": {},
   "outputs": [],
   "source": [
    "client = get_client()\n",
    "db = client.underpriced\n",
    "flats = list(db.unprocessedFlats.find())"
   ]
  },
  {
   "cell_type": "code",
   "execution_count": 132,
   "metadata": {},
   "outputs": [],
   "source": [
    "# df = pd.read_json(\"/home/alena/Documents/underpriced/aggregation_module/flats.json\", orient='values')"
   ]
  },
  {
   "cell_type": "code",
   "execution_count": 133,
   "metadata": {},
   "outputs": [],
   "source": [
    "df = pd.DataFrame.from_records(flats)"
   ]
  },
  {
   "cell_type": "code",
   "execution_count": 134,
   "metadata": {},
   "outputs": [],
   "source": [
    "df.set_index(df['_id'], inplace=True)\n",
    "df = df.drop('_id', axis=1)"
   ]
  },
  {
   "cell_type": "code",
   "execution_count": 135,
   "metadata": {
    "scrolled": true
   },
   "outputs": [
    {
     "name": "stdout",
     "output_type": "stream",
     "text": [
      "<class 'pandas.core.frame.DataFrame'>\n",
      "Index: 15547 entries, 165528286 to 167205352\n",
      "Data columns (total 28 columns):\n",
      "address                    15547 non-null object\n",
      "apartment_status           88 non-null object\n",
      "area                       15546 non-null object\n",
      "balcony                    15546 non-null object\n",
      "ceiling_height             6407 non-null object\n",
      "combined_bathroom_count    6805 non-null object\n",
      "construction_year          10416 non-null object\n",
      "description                15547 non-null object\n",
      "district                   15547 non-null object\n",
      "elevator                   10264 non-null object\n",
      "floor                      15544 non-null object\n",
      "house_type                 11774 non-null object\n",
      "images                     15547 non-null object\n",
      "kitchen_area               15546 non-null object\n",
      "living_area                15546 non-null object\n",
      "parking                    5303 non-null object\n",
      "price                      15547 non-null object\n",
      "processed                  549 non-null object\n",
      "ramp                       1595 non-null object\n",
      "repair                     14210 non-null object\n",
      "room_area                  15546 non-null object\n",
      "room_type                  4956 non-null object\n",
      "rooms                      15545 non-null object\n",
      "sleeping_place_count       27 non-null object\n",
      "split_bathroom_count       6684 non-null object\n",
      "underground                15547 non-null object\n",
      "url                        15547 non-null object\n",
      "view                       10321 non-null object\n",
      "dtypes: object(28)\n",
      "memory usage: 3.4+ MB\n"
     ]
    }
   ],
   "source": [
    "df.info()"
   ]
  },
  {
   "cell_type": "code",
   "execution_count": 136,
   "metadata": {},
   "outputs": [
    {
     "data": {
      "text/plain": [
       "2                                                    6283\n",
       "1                                                    4177\n",
       "3                                                    4154\n",
       "4                                                     719\n",
       "5                                                     140\n",
       "студия на длительный срок (от года)                    54\n",
       "многокомн. кв. на длительный срок (от года)            11\n",
       "свободная планировка на длительный срок (от года)       3\n",
       "студия на несколько месяцев (меньше года)               3\n",
       "многокомн. кв. посуточно                                1\n",
       "Name: rooms, dtype: int64"
      ]
     },
     "execution_count": 136,
     "metadata": {},
     "output_type": "execute_result"
    }
   ],
   "source": [
    "df.rooms.value_counts()"
   ]
  },
  {
   "cell_type": "code",
   "execution_count": 137,
   "metadata": {},
   "outputs": [
    {
     "data": {
      "text/plain": [
       "(15547, 28)"
      ]
     },
     "execution_count": 137,
     "metadata": {},
     "output_type": "execute_result"
    }
   ],
   "source": [
    "df.shape"
   ]
  },
  {
   "cell_type": "code",
   "execution_count": 138,
   "metadata": {},
   "outputs": [],
   "source": [
    "df.price = df.price.map(lambda item: int(item['rub_price']) if 'rub_price' in item else np.nan)"
   ]
  },
  {
   "cell_type": "code",
   "execution_count": 139,
   "metadata": {},
   "outputs": [],
   "source": [
    "df.price = df.price[df.price <= 200000]"
   ]
  },
  {
   "cell_type": "code",
   "execution_count": 140,
   "metadata": {},
   "outputs": [],
   "source": [
    "df = df.dropna(axis=0, how='any', subset=['price'])"
   ]
  },
  {
   "cell_type": "code",
   "execution_count": 141,
   "metadata": {},
   "outputs": [
    {
     "data": {
      "text/plain": [
       "0"
      ]
     },
     "execution_count": 141,
     "metadata": {},
     "output_type": "execute_result"
    }
   ],
   "source": [
    "df.price.isnull().sum()"
   ]
  },
  {
   "cell_type": "code",
   "execution_count": 142,
   "metadata": {},
   "outputs": [
    {
     "data": {
      "text/plain": [
       "40000.0     1130\n",
       "45000.0      924\n",
       "30000.0      905\n",
       "35000.0      842\n",
       "50000.0      794\n",
       "120000.0     553\n",
       "55000.0      545\n",
       "100000.0     537\n",
       "90000.0      491\n",
       "60000.0      483\n",
       "28000.0      454\n",
       "65000.0      426\n",
       "70000.0      419\n",
       "150000.0     414\n",
       "25000.0      410\n",
       "180000.0     375\n",
       "75000.0      349\n",
       "80000.0      327\n",
       "33000.0      317\n",
       "38000.0      299\n",
       "32000.0      278\n",
       "43000.0      253\n",
       "85000.0      246\n",
       "27000.0      240\n",
       "42000.0      230\n",
       "170000.0     202\n",
       "95000.0      164\n",
       "37000.0      161\n",
       "48000.0      157\n",
       "26000.0      154\n",
       "            ... \n",
       "54999.0        1\n",
       "173000.0       1\n",
       "78500.0        1\n",
       "102000.0       1\n",
       "30900.0        1\n",
       "153000.0       1\n",
       "64900.0        1\n",
       "14000.0        1\n",
       "48500.0        1\n",
       "65500.0        1\n",
       "178000.0       1\n",
       "29990.0        1\n",
       "43200.0        1\n",
       "54990.0        1\n",
       "67500.0        1\n",
       "75500.0        1\n",
       "158000.0       1\n",
       "56500.0        1\n",
       "69999.0        1\n",
       "34500.0        1\n",
       "181000.0       1\n",
       "47900.0        1\n",
       "46500.0        1\n",
       "99999.0        1\n",
       "79500.0        1\n",
       "24990.0        1\n",
       "49990.0        1\n",
       "104000.0       1\n",
       "72500.0        1\n",
       "34900.0        1\n",
       "Name: price, Length: 222, dtype: int64"
      ]
     },
     "execution_count": 142,
     "metadata": {},
     "output_type": "execute_result"
    }
   ],
   "source": [
    "df.price.value_counts()"
   ]
  },
  {
   "cell_type": "code",
   "execution_count": 143,
   "metadata": {},
   "outputs": [
    {
     "data": {
      "text/plain": [
       "(15542, 28)"
      ]
     },
     "execution_count": 143,
     "metadata": {},
     "output_type": "execute_result"
    }
   ],
   "source": [
    "df.shape"
   ]
  },
  {
   "cell_type": "code",
   "execution_count": 144,
   "metadata": {},
   "outputs": [
    {
     "data": {
      "image/png": "[encoded data removed]",
      "text/plain": [
       "<matplotlib.figure.Figure at 0x7f67b18c0ac8>"
      ]
     },
     "metadata": {},
     "output_type": "display_data"
    }
   ],
   "source": [
    "%matplotlib inline\n",
    "import seaborn as sns\n",
    "\n",
    "# Распределение квартир по цене:\n",
    "sns.distplot(df.price / 1000);"
   ]
  },
  {
   "cell_type": "code",
   "execution_count": 98,
   "metadata": {},
   "outputs": [],
   "source": [
    "df = df.drop(['apartment_status', 'address', 'description', 'images', 'district', 'room_area', 'url', 'view', 'processed'], axis=1)"
   ]
  },
  {
   "cell_type": "code",
   "execution_count": 99,
   "metadata": {},
   "outputs": [],
   "source": [
    "# df = df.drop(['apartment_status', 'address', 'description', 'images', 'district', 'room_area', 'url', 'view'], axis=1)"
   ]
  },
  {
   "cell_type": "code",
   "execution_count": 100,
   "metadata": {},
   "outputs": [
    {
     "name": "stdout",
     "output_type": "stream",
     "text": [
      "<class 'pandas.core.frame.DataFrame'>\n",
      "Index: 14945 entries, 165528286 to 166872179\n",
      "Data columns (total 19 columns):\n",
      "area                       14945 non-null object\n",
      "balcony                    14945 non-null object\n",
      "ceiling_height             6192 non-null object\n",
      "combined_bathroom_count    6531 non-null object\n",
      "construction_year          10018 non-null object\n",
      "elevator                   9830 non-null object\n",
      "floor                      14943 non-null object\n",
      "house_type                 11322 non-null object\n",
      "kitchen_area               14945 non-null object\n",
      "living_area                14945 non-null object\n",
      "parking                    5060 non-null object\n",
      "price                      14945 non-null float64\n",
      "ramp                       1537 non-null object\n",
      "repair                     13653 non-null object\n",
      "room_type                  4714 non-null object\n",
      "rooms                      14943 non-null object\n",
      "sleeping_place_count       27 non-null object\n",
      "split_bathroom_count       6402 non-null object\n",
      "underground                14945 non-null object\n",
      "dtypes: float64(1), object(18)\n",
      "memory usage: 2.3+ MB\n"
     ]
    }
   ],
   "source": [
    "df.info()"
   ]
  },
  {
   "cell_type": "code",
   "execution_count": 101,
   "metadata": {},
   "outputs": [
    {
     "data": {
      "text/plain": [
       "(14945, 19)"
      ]
     },
     "execution_count": 101,
     "metadata": {},
     "output_type": "execute_result"
    }
   ],
   "source": [
    "df.shape"
   ]
  },
  {
   "cell_type": "code",
   "execution_count": 102,
   "metadata": {},
   "outputs": [],
   "source": [
    "# nulls more than a half\n",
    "df = df.drop(['room_type', 'ceiling_height', 'parking', 'ramp', 'sleeping_place_count', 'split_bathroom_count', 'elevator'], axis=1)"
   ]
  },
  {
   "cell_type": "code",
   "execution_count": 103,
   "metadata": {},
   "outputs": [
    {
     "name": "stdout",
     "output_type": "stream",
     "text": [
      "<class 'pandas.core.frame.DataFrame'>\n",
      "Index: 14945 entries, 165528286 to 166872179\n",
      "Data columns (total 12 columns):\n",
      "area                       14945 non-null object\n",
      "balcony                    14945 non-null object\n",
      "combined_bathroom_count    6531 non-null object\n",
      "construction_year          10018 non-null object\n",
      "floor                      14943 non-null object\n",
      "house_type                 11322 non-null object\n",
      "kitchen_area               14945 non-null object\n",
      "living_area                14945 non-null object\n",
      "price                      14945 non-null float64\n",
      "repair                     13653 non-null object\n",
      "rooms                      14943 non-null object\n",
      "underground                14945 non-null object\n",
      "dtypes: float64(1), object(11)\n",
      "memory usage: 1.5+ MB\n"
     ]
    }
   ],
   "source": [
    "df.info()"
   ]
  },
  {
   "cell_type": "code",
   "execution_count": 104,
   "metadata": {},
   "outputs": [],
   "source": [
    "df = df.dropna(axis=0, how='any', subset=['area'])\n",
    "df['area'] = df['area'].map(lambda x: float(x.replace(',', '.')) if ',' in x else float(x))"
   ]
  },
  {
   "cell_type": "code",
   "execution_count": 105,
   "metadata": {},
   "outputs": [],
   "source": [
    "df['has_balcony'] = df['balcony'].map(lambda x: 1 if x.find(u'есть балкон') != -1 else 0)\n",
    "df['has_loggia'] = df['balcony'].map(lambda x: 1 if x.find(u'есть лоджия') != -1 else 0)\n",
    "df = df.drop('balcony', axis=1)"
   ]
  },
  {
   "cell_type": "code",
   "execution_count": 106,
   "metadata": {},
   "outputs": [],
   "source": [
    "imputer = Imputer(missing_values=np.nan, strategy=\"median\", axis=0)\n",
    "df['combined_bathroom_count'] = imputer.fit_transform(df['combined_bathroom_count'].values.reshape(-1, 1))\n",
    "df['combined_bathroom_count'] = df['combined_bathroom_count'].map(lambda x: int(x))"
   ]
  },
  {
   "cell_type": "code",
   "execution_count": 107,
   "metadata": {},
   "outputs": [],
   "source": [
    "imputer = Imputer(missing_values=np.nan, strategy=\"median\", axis=0)\n",
    "df['construction_year'] = imputer.fit_transform(df['construction_year'].values.reshape(-1, 1))\n",
    "df['construction_year'] = df['construction_year'].map(lambda x: int(x))"
   ]
  },
  {
   "cell_type": "code",
   "execution_count": 108,
   "metadata": {},
   "outputs": [],
   "source": [
    "df = df.dropna(axis=0, how='any', subset=['floor'])"
   ]
  },
  {
   "cell_type": "code",
   "execution_count": 109,
   "metadata": {},
   "outputs": [],
   "source": [
    "df['curr_floor'] = df['floor'].map(lambda x: int(str(x).split(' / ')[0]))\n",
    "df['total_floor'] = df['floor'].map(lambda x: int(str(x).split(' / ')[1]))\n",
    "df = df.drop('floor', axis=1)"
   ]
  },
  {
   "cell_type": "code",
   "execution_count": 110,
   "metadata": {},
   "outputs": [],
   "source": [
    "df = df.dropna(axis=0, how='any', subset=['house_type'])"
   ]
  },
  {
   "cell_type": "code",
   "execution_count": 111,
   "metadata": {},
   "outputs": [],
   "source": [
    "df['kitchen_area'] = df['kitchen_area'].map(lambda x: x.replace(',', '.') if ',' in x else x)\n",
    "df.loc[df.kitchen_area == '–', 'kitchen_area'] = np.nan\n",
    "df['kitchen_area'] = df['kitchen_area'].map(lambda x: float(x) if x is not None else x)\n",
    "imputer = Imputer(missing_values=np.nan, strategy=\"mean\", axis=0)\n",
    "df['kitchen_area'] = imputer.fit_transform(df['kitchen_area'].values.reshape(-1, 1)) "
   ]
  },
  {
   "cell_type": "code",
   "execution_count": 112,
   "metadata": {},
   "outputs": [],
   "source": [
    "df['living_area'] = df['living_area'].map(lambda x: x.replace(',', '.') if ',' in x else x)\n",
    "df.loc[df.living_area == '–', 'living_area'] = np.nan\n",
    "df['living_area'] = df['living_area'].map(lambda x: float(x) if x is not None else x)\n",
    "imputer = Imputer(missing_values=np.nan, strategy=\"mean\", axis=0)\n",
    "df['living_area'] = imputer.fit_transform(df['living_area'].values.reshape(-1, 1))"
   ]
  },
  {
   "cell_type": "code",
   "execution_count": 113,
   "metadata": {},
   "outputs": [
    {
     "data": {
      "text/plain": [
       "0"
      ]
     },
     "execution_count": 113,
     "metadata": {},
     "output_type": "execute_result"
    }
   ],
   "source": [
    "df.price.isnull().sum()"
   ]
  },
  {
   "cell_type": "code",
   "execution_count": 114,
   "metadata": {},
   "outputs": [],
   "source": [
    "df = df.dropna(axis=0, how='any', subset=['repair'])"
   ]
  },
  {
   "cell_type": "code",
   "execution_count": 115,
   "metadata": {},
   "outputs": [],
   "source": [
    "df['rooms'] = df['rooms'].map(lambda x: -1 if type(x) == str and x.find(u'студия') != -1 else x)\n",
    "df['rooms'] = df['rooms'].map(lambda x: 6 if type(x) == str and x.find(u'многокомн') != -1 else x)\n",
    "df['rooms'] = df['rooms'].map(lambda x: np.nan if type(x) == str and x == 'свободная планировка на длительный срок (от года)' else x)\n",
    "df = df.dropna(axis=0, how='any', subset=['rooms'])\n",
    "df['rooms'] = df['rooms'].map(lambda x: int(x))"
   ]
  },
  {
   "cell_type": "code",
   "execution_count": 116,
   "metadata": {},
   "outputs": [],
   "source": [
    "df['underground'] = df['underground'].map(lambda x: np.nan if x == {} else x) \n",
    "df = df.dropna(axis=0, how='any', subset=['underground'])\n",
    "df['underground_name'] = df['underground'].map(lambda item: str(get_nearest_undergroud(item)).lower())\n",
    "df['is_center'] = df['underground_name'].map(lambda item: 1 if item in centered_subways else 0)"
   ]
  },
  {
   "cell_type": "code",
   "execution_count": 117,
   "metadata": {},
   "outputs": [],
   "source": [
    "def get_way(item):\n",
    "    if 'пешком' in item[get_nearest_undergroud(item)]:\n",
    "        return -1\n",
    "    if 'машине' in item[get_nearest_undergroud(item)]:\n",
    "        return 1\n",
    "    return None"
   ]
  },
  {
   "cell_type": "code",
   "execution_count": 118,
   "metadata": {},
   "outputs": [],
   "source": [
    "df['underground_way'] = df.underground.map(lambda x: get_way(x))"
   ]
  },
  {
   "cell_type": "code",
   "execution_count": 119,
   "metadata": {},
   "outputs": [],
   "source": [
    "df['underground_time'] = df.underground.map(lambda x: int(x[get_nearest_undergroud(x)].split(' ')[0]))"
   ]
  },
  {
   "cell_type": "code",
   "execution_count": 120,
   "metadata": {},
   "outputs": [],
   "source": [
    "# nulls more than a half\n",
    "df = df.drop(['underground'], axis=1)"
   ]
  },
  {
   "cell_type": "code",
   "execution_count": 121,
   "metadata": {},
   "outputs": [
    {
     "name": "stdout",
     "output_type": "stream",
     "text": [
      "<class 'pandas.core.frame.DataFrame'>\n",
      "Index: 10796 entries, 165528286 to 166872179\n",
      "Data columns (total 17 columns):\n",
      "area                       10796 non-null float64\n",
      "combined_bathroom_count    10796 non-null int64\n",
      "construction_year          10796 non-null int64\n",
      "house_type                 10796 non-null object\n",
      "kitchen_area               10796 non-null float64\n",
      "living_area                10796 non-null float64\n",
      "price                      10796 non-null float64\n",
      "repair                     10796 non-null object\n",
      "rooms                      10796 non-null int64\n",
      "has_balcony                10796 non-null int64\n",
      "has_loggia                 10796 non-null int64\n",
      "curr_floor                 10796 non-null int64\n",
      "total_floor                10796 non-null int64\n",
      "underground_name           10796 non-null object\n",
      "is_center                  10796 non-null int64\n",
      "underground_way            10796 non-null int64\n",
      "underground_time           10796 non-null int64\n",
      "dtypes: float64(4), int64(10), object(3)\n",
      "memory usage: 1.5+ MB\n"
     ]
    }
   ],
   "source": [
    "df.info()"
   ]
  },
  {
   "cell_type": "code",
   "execution_count": 122,
   "metadata": {},
   "outputs": [],
   "source": [
    "average_data = {}\n",
    "for col in df.columns:\n",
    "    if df[col].dtypes != object:\n",
    "        average_data[col] = df[col].mean()\n",
    "\n",
    "with open('average_data.json', 'w') as outfile:\n",
    "    json.dump(average_data, outfile)"
   ]
  },
  {
   "cell_type": "code",
   "execution_count": 123,
   "metadata": {},
   "outputs": [
    {
     "data": {
      "text/plain": [
       "0"
      ]
     },
     "execution_count": 123,
     "metadata": {},
     "output_type": "execute_result"
    }
   ],
   "source": [
    "df.repair.isnull().sum()"
   ]
  },
  {
   "cell_type": "code",
   "execution_count": 124,
   "metadata": {},
   "outputs": [],
   "source": [
    "df, metro_le_encoder = encode_with_OneHotEncoder_and_delete_column(df,'underground_name')\n",
    "df, house_type_le_encoder = encode_with_OneHotEncoder_and_delete_column(df,'house_type')\n",
    "df, repair_le_encoder = encode_with_OneHotEncoder_and_delete_column(df,'repair')"
   ]
  },
  {
   "cell_type": "code",
   "execution_count": 125,
   "metadata": {},
   "outputs": [
    {
     "data": {
      "text/plain": [
       "(10796, 233)"
      ]
     },
     "execution_count": 125,
     "metadata": {},
     "output_type": "execute_result"
    }
   ],
   "source": [
    "df.shape"
   ]
  },
  {
   "cell_type": "code",
   "execution_count": 126,
   "metadata": {},
   "outputs": [],
   "source": [
    "with open('features.json', 'w') as outfile:\n",
    "    all_columns = {}\n",
    "    all_columns['features'] = df.columns.tolist()\n",
    "    json.dump(all_columns, outfile)"
   ]
  },
  {
   "cell_type": "code",
   "execution_count": 127,
   "metadata": {},
   "outputs": [],
   "source": [
    "df.to_csv('flats_data.csv')"
   ]
  },
  {
   "cell_type": "code",
   "execution_count": 128,
   "metadata": {},
   "outputs": [
    {
     "name": "stdout",
     "output_type": "stream",
     "text": [
      "<class 'pandas.core.frame.DataFrame'>\n",
      "Index: 10796 entries, 165528286 to 166872179\n",
      "Columns: 233 entries, area to repair=отсутствует\n",
      "dtypes: float64(223), int64(10)\n",
      "memory usage: 19.3+ MB\n"
     ]
    }
   ],
   "source": [
    "df.info()"
   ]
  },
  {
   "cell_type": "code",
   "execution_count": 129,
   "metadata": {},
   "outputs": [
    {
     "data": {
      "image/png": "[encoded data removed]",
      "text/plain": [
       "<matplotlib.figure.Figure at 0x7f67a8763a20>"
      ]
     },
     "metadata": {},
     "output_type": "display_data"
    }
   ],
   "source": [
    "%matplotlib inline\n",
    "import seaborn as sns\n",
    "\n",
    "# Распределение квартир по цене:\n",
    "sns.distplot(df.price / 1000);"
   ]
  },
  {
   "cell_type": "code",
   "execution_count": null,
   "metadata": {},
   "outputs": [],
   "source": []
  },
  {
   "cell_type": "code",
   "execution_count": null,
   "metadata": {},
   "outputs": [],
   "source": []
  }
 ],
 "metadata": {
  "kernelspec": {
   "display_name": "Python 3",
   "language": "python",
   "name": "python3"
  },
  "language_info": {
   "codemirror_mode": {
    "name": "ipython",
    "version": 3
   },
   "file_extension": ".py",
   "mimetype": "text/x-python",
   "name": "python",
   "nbconvert_exporter": "python",
   "pygments_lexer": "ipython3",
   "version": "3.5.3"
  }
 },
 "nbformat": 4,
 "nbformat_minor": 2
}
