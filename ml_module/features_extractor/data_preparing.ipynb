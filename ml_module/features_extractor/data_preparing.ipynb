{
 "cells": [
  {
   "cell_type": "code",
   "execution_count": 1,
   "metadata": {},
   "outputs": [],
   "source": [
    "import sys\n",
    "sys.path.append('../../')\n",
    "\n",
    "import json\n",
    "import pandas as pd\n",
    "import numpy as np\n",
    "from core.database import get_client\n",
    "from sklearn.preprocessing import Imputer\n",
    "from utils import centered_subways, get_nearest_undergroud, encode_with_OneHotEncoder_and_delete_column, encode_with_LabelEncoder, perform_coding_and_delete_column"
   ]
  },
  {
   "cell_type": "code",
   "execution_count": 2,
   "metadata": {},
   "outputs": [],
   "source": [
    "client = get_client()\n",
    "db = client.underpriced\n",
    "flats = list(db.unprocessedFlats.find())"
   ]
  },
  {
   "cell_type": "code",
   "execution_count": 3,
   "metadata": {},
   "outputs": [],
   "source": [
    "# df = pd.read_json(\"/home/alena/Documents/underpriced/aggregation_module/flats.json\", orient='values')"
   ]
  },
  {
   "cell_type": "code",
   "execution_count": 4,
   "metadata": {},
   "outputs": [],
   "source": [
    "df = pd.DataFrame.from_records(flats)"
   ]
  },
  {
   "cell_type": "code",
   "execution_count": 5,
   "metadata": {},
   "outputs": [],
   "source": [
    "df.set_index(df['_id'], inplace=True)\n",
    "df = df.drop('_id', axis=1)"
   ]
  },
  {
   "cell_type": "code",
   "execution_count": 6,
   "metadata": {
    "scrolled": true
   },
   "outputs": [
    {
     "name": "stdout",
     "output_type": "stream",
     "text": [
      "<class 'pandas.core.frame.DataFrame'>\n",
      "Index: 16042 entries, 165528286 to 167544860\n",
      "Data columns (total 28 columns):\n",
      "address                    16042 non-null object\n",
      "apartment_status           92 non-null object\n",
      "area                       16041 non-null object\n",
      "balcony                    16041 non-null object\n",
      "ceiling_height             6546 non-null object\n",
      "combined_bathroom_count    7075 non-null object\n",
      "construction_year          10742 non-null object\n",
      "description                16042 non-null object\n",
      "district                   16042 non-null object\n",
      "elevator                   10592 non-null object\n",
      "floor                      16038 non-null object\n",
      "house_type                 12153 non-null object\n",
      "images                     16042 non-null object\n",
      "kitchen_area               16041 non-null object\n",
      "living_area                16041 non-null object\n",
      "parking                    5503 non-null object\n",
      "price                      16042 non-null object\n",
      "processed                  547 non-null object\n",
      "ramp                       1645 non-null object\n",
      "repair                     14663 non-null object\n",
      "room_area                  16041 non-null object\n",
      "room_type                  5121 non-null object\n",
      "rooms                      16040 non-null object\n",
      "sleeping_place_count       27 non-null object\n",
      "split_bathroom_count       6873 non-null object\n",
      "underground                16042 non-null object\n",
      "url                        16042 non-null object\n",
      "view                       10669 non-null object\n",
      "dtypes: object(28)\n",
      "memory usage: 3.5+ MB\n"
     ]
    }
   ],
   "source": [
    "df.info()"
   ]
  },
  {
   "cell_type": "code",
   "execution_count": 7,
   "metadata": {},
   "outputs": [
    {
     "data": {
      "text/plain": [
       "2                                                    6477\n",
       "3                                                    4370\n",
       "1                                                    4212\n",
       "4                                                     762\n",
       "5                                                     141\n",
       "студия на длительный срок (от года)                    56\n",
       "многокомн. кв. на длительный срок (от года)            15\n",
       "свободная планировка на длительный срок (от года)       3\n",
       "студия на несколько месяцев (меньше года)               3\n",
       "многокомн. кв. посуточно                                1\n",
       "Name: rooms, dtype: int64"
      ]
     },
     "execution_count": 7,
     "metadata": {},
     "output_type": "execute_result"
    }
   ],
   "source": [
    "df.rooms.value_counts()"
   ]
  },
  {
   "cell_type": "code",
   "execution_count": 8,
   "metadata": {},
   "outputs": [
    {
     "data": {
      "text/plain": [
       "(16042, 28)"
      ]
     },
     "execution_count": 8,
     "metadata": {},
     "output_type": "execute_result"
    }
   ],
   "source": [
    "df.shape"
   ]
  },
  {
   "cell_type": "code",
   "execution_count": 9,
   "metadata": {},
   "outputs": [
    {
     "data": {
      "text/plain": [
       "(16042, 28)"
      ]
     },
     "execution_count": 9,
     "metadata": {},
     "output_type": "execute_result"
    }
   ],
   "source": [
    "df.shape"
   ]
  },
  {
   "cell_type": "code",
   "execution_count": null,
   "metadata": {},
   "outputs": [],
   "source": []
  },
  {
   "cell_type": "code",
   "execution_count": 10,
   "metadata": {},
   "outputs": [],
   "source": [
    "df = df.drop(['apartment_status', 'address', 'description', 'images', 'district', 'room_area', 'url', 'view', 'processed'], axis=1)"
   ]
  },
  {
   "cell_type": "code",
   "execution_count": 11,
   "metadata": {},
   "outputs": [],
   "source": [
    "# df = df.drop(['apartment_status', 'address', 'description', 'images', 'district', 'room_area', 'url', 'view'], axis=1)"
   ]
  },
  {
   "cell_type": "code",
   "execution_count": 12,
   "metadata": {},
   "outputs": [
    {
     "name": "stdout",
     "output_type": "stream",
     "text": [
      "<class 'pandas.core.frame.DataFrame'>\n",
      "Index: 16042 entries, 165528286 to 167544860\n",
      "Data columns (total 19 columns):\n",
      "area                       16041 non-null object\n",
      "balcony                    16041 non-null object\n",
      "ceiling_height             6546 non-null object\n",
      "combined_bathroom_count    7075 non-null object\n",
      "construction_year          10742 non-null object\n",
      "elevator                   10592 non-null object\n",
      "floor                      16038 non-null object\n",
      "house_type                 12153 non-null object\n",
      "kitchen_area               16041 non-null object\n",
      "living_area                16041 non-null object\n",
      "parking                    5503 non-null object\n",
      "price                      16042 non-null object\n",
      "ramp                       1645 non-null object\n",
      "repair                     14663 non-null object\n",
      "room_type                  5121 non-null object\n",
      "rooms                      16040 non-null object\n",
      "sleeping_place_count       27 non-null object\n",
      "split_bathroom_count       6873 non-null object\n",
      "underground                16042 non-null object\n",
      "dtypes: object(19)\n",
      "memory usage: 2.4+ MB\n"
     ]
    }
   ],
   "source": [
    "df.info()"
   ]
  },
  {
   "cell_type": "code",
   "execution_count": 13,
   "metadata": {},
   "outputs": [
    {
     "data": {
      "text/plain": [
       "(16042, 19)"
      ]
     },
     "execution_count": 13,
     "metadata": {},
     "output_type": "execute_result"
    }
   ],
   "source": [
    "df.shape"
   ]
  },
  {
   "cell_type": "code",
   "execution_count": 14,
   "metadata": {},
   "outputs": [],
   "source": [
    "# nulls more than a half\n",
    "df = df.drop(['room_type', 'ceiling_height', 'parking', 'ramp', 'sleeping_place_count', 'split_bathroom_count', 'elevator'], axis=1)"
   ]
  },
  {
   "cell_type": "code",
   "execution_count": 15,
   "metadata": {},
   "outputs": [
    {
     "name": "stdout",
     "output_type": "stream",
     "text": [
      "<class 'pandas.core.frame.DataFrame'>\n",
      "Index: 16042 entries, 165528286 to 167544860\n",
      "Data columns (total 12 columns):\n",
      "area                       16041 non-null object\n",
      "balcony                    16041 non-null object\n",
      "combined_bathroom_count    7075 non-null object\n",
      "construction_year          10742 non-null object\n",
      "floor                      16038 non-null object\n",
      "house_type                 12153 non-null object\n",
      "kitchen_area               16041 non-null object\n",
      "living_area                16041 non-null object\n",
      "price                      16042 non-null object\n",
      "repair                     14663 non-null object\n",
      "rooms                      16040 non-null object\n",
      "underground                16042 non-null object\n",
      "dtypes: object(12)\n",
      "memory usage: 1.6+ MB\n"
     ]
    }
   ],
   "source": [
    "df.info()"
   ]
  },
  {
   "cell_type": "code",
   "execution_count": 16,
   "metadata": {},
   "outputs": [],
   "source": [
    "df = df.dropna(axis=0, how='any', subset=['area'])\n",
    "df['area'] = df['area'].map(lambda x: float(x.replace(',', '.')) if ',' in x else float(x))"
   ]
  },
  {
   "cell_type": "code",
   "execution_count": 17,
   "metadata": {},
   "outputs": [],
   "source": [
    "df['has_balcony'] = df['balcony'].map(lambda x: 1 if x.find(u'есть балкон') != -1 else 0)\n",
    "df['has_loggia'] = df['balcony'].map(lambda x: 1 if x.find(u'есть лоджия') != -1 else 0)\n",
    "df = df.drop('balcony', axis=1)"
   ]
  },
  {
   "cell_type": "code",
   "execution_count": 18,
   "metadata": {},
   "outputs": [],
   "source": [
    "imputer = Imputer(missing_values=np.nan, strategy=\"median\", axis=0)\n",
    "df['combined_bathroom_count'] = imputer.fit_transform(df['combined_bathroom_count'].values.reshape(-1, 1))\n",
    "df['combined_bathroom_count'] = df['combined_bathroom_count'].map(lambda x: int(x))"
   ]
  },
  {
   "cell_type": "code",
   "execution_count": 19,
   "metadata": {},
   "outputs": [],
   "source": [
    "imputer = Imputer(missing_values=np.nan, strategy=\"median\", axis=0)\n",
    "df['construction_year'] = imputer.fit_transform(df['construction_year'].values.reshape(-1, 1))\n",
    "df['construction_year'] = df['construction_year'].map(lambda x: int(x))"
   ]
  },
  {
   "cell_type": "code",
   "execution_count": 20,
   "metadata": {},
   "outputs": [],
   "source": [
    "df = df.dropna(axis=0, how='any', subset=['floor'])"
   ]
  },
  {
   "cell_type": "code",
   "execution_count": 21,
   "metadata": {},
   "outputs": [],
   "source": [
    "df['curr_floor'] = df['floor'].map(lambda x: int(str(x).split(' / ')[0]))\n",
    "df['total_floor'] = df['floor'].map(lambda x: int(str(x).split(' / ')[1]))\n",
    "df = df.drop('floor', axis=1)"
   ]
  },
  {
   "cell_type": "code",
   "execution_count": 22,
   "metadata": {},
   "outputs": [],
   "source": [
    "df = df.dropna(axis=0, how='any', subset=['house_type'])"
   ]
  },
  {
   "cell_type": "code",
   "execution_count": 23,
   "metadata": {},
   "outputs": [],
   "source": [
    "df['kitchen_area'] = df['kitchen_area'].map(lambda x: x.replace(',', '.') if ',' in x else x)\n",
    "df.loc[df.kitchen_area == '–', 'kitchen_area'] = np.nan\n",
    "df['kitchen_area'] = df['kitchen_area'].map(lambda x: float(x) if x is not None else x)\n",
    "imputer = Imputer(missing_values=np.nan, strategy=\"mean\", axis=0)\n",
    "df['kitchen_area'] = imputer.fit_transform(df['kitchen_area'].values.reshape(-1, 1)) "
   ]
  },
  {
   "cell_type": "code",
   "execution_count": 24,
   "metadata": {},
   "outputs": [],
   "source": [
    "df['living_area'] = df['living_area'].map(lambda x: x.replace(',', '.') if ',' in x else x)\n",
    "df.loc[df.living_area == '–', 'living_area'] = np.nan\n",
    "df['living_area'] = df['living_area'].map(lambda x: float(x) if x is not None else x)\n",
    "imputer = Imputer(missing_values=np.nan, strategy=\"mean\", axis=0)\n",
    "df['living_area'] = imputer.fit_transform(df['living_area'].values.reshape(-1, 1))"
   ]
  },
  {
   "cell_type": "code",
   "execution_count": 25,
   "metadata": {},
   "outputs": [
    {
     "data": {
      "text/plain": [
       "0"
      ]
     },
     "execution_count": 25,
     "metadata": {},
     "output_type": "execute_result"
    }
   ],
   "source": [
    "df.price.isnull().sum()"
   ]
  },
  {
   "cell_type": "code",
   "execution_count": 26,
   "metadata": {},
   "outputs": [],
   "source": [
    "df = df.dropna(axis=0, how='any', subset=['repair'])"
   ]
  },
  {
   "cell_type": "code",
   "execution_count": 27,
   "metadata": {},
   "outputs": [],
   "source": [
    "df['rooms'] = df['rooms'].map(lambda x: -1 if type(x) == str and x.find(u'студия') != -1 else x)\n",
    "df['rooms'] = df['rooms'].map(lambda x: 6 if type(x) == str and x.find(u'многокомн') != -1 else x)\n",
    "df['rooms'] = df['rooms'].map(lambda x: np.nan if type(x) == str and x == 'свободная планировка на длительный срок (от года)' else x)\n",
    "df = df.dropna(axis=0, how='any', subset=['rooms'])\n",
    "df['rooms'] = df['rooms'].map(lambda x: int(x))"
   ]
  },
  {
   "cell_type": "code",
   "execution_count": 28,
   "metadata": {},
   "outputs": [],
   "source": [
    "df['underground'] = df['underground'].map(lambda x: np.nan if x == {} else x) \n",
    "df = df.dropna(axis=0, how='any', subset=['underground'])\n",
    "df['underground_name'] = df['underground'].map(lambda item: str(get_nearest_undergroud(item)).lower())\n",
    "df['is_center'] = df['underground_name'].map(lambda item: 1 if item in centered_subways else 0)"
   ]
  },
  {
   "cell_type": "code",
   "execution_count": 29,
   "metadata": {},
   "outputs": [],
   "source": [
    "def get_way(item):\n",
    "    if 'пешком' in item[get_nearest_undergroud(item)]:\n",
    "        return -1\n",
    "    if 'машине' in item[get_nearest_undergroud(item)]:\n",
    "        return 1\n",
    "    return None"
   ]
  },
  {
   "cell_type": "code",
   "execution_count": 30,
   "metadata": {},
   "outputs": [],
   "source": [
    "df['underground_way'] = df.underground.map(lambda x: get_way(x))"
   ]
  },
  {
   "cell_type": "code",
   "execution_count": 31,
   "metadata": {},
   "outputs": [],
   "source": [
    "df['underground_time'] = df.underground.map(lambda x: int(x[get_nearest_undergroud(x)].split(' ')[0]))"
   ]
  },
  {
   "cell_type": "code",
   "execution_count": 32,
   "metadata": {},
   "outputs": [],
   "source": [
    "# nulls more than a half\n",
    "df = df.drop(['underground'], axis=1)"
   ]
  },
  {
   "cell_type": "code",
   "execution_count": 33,
   "metadata": {},
   "outputs": [
    {
     "name": "stdout",
     "output_type": "stream",
     "text": [
      "<class 'pandas.core.frame.DataFrame'>\n",
      "Index: 11592 entries, 165528286 to 167544860\n",
      "Data columns (total 17 columns):\n",
      "area                       11592 non-null float64\n",
      "combined_bathroom_count    11592 non-null int64\n",
      "construction_year          11592 non-null int64\n",
      "house_type                 11592 non-null object\n",
      "kitchen_area               11592 non-null float64\n",
      "living_area                11592 non-null float64\n",
      "price                      11592 non-null object\n",
      "repair                     11592 non-null object\n",
      "rooms                      11592 non-null int64\n",
      "has_balcony                11592 non-null int64\n",
      "has_loggia                 11592 non-null int64\n",
      "curr_floor                 11592 non-null int64\n",
      "total_floor                11592 non-null int64\n",
      "underground_name           11592 non-null object\n",
      "is_center                  11592 non-null int64\n",
      "underground_way            11592 non-null int64\n",
      "underground_time           11592 non-null int64\n",
      "dtypes: float64(3), int64(10), object(4)\n",
      "memory usage: 1.6+ MB\n"
     ]
    }
   ],
   "source": [
    "df.info()"
   ]
  },
  {
   "cell_type": "code",
   "execution_count": 34,
   "metadata": {},
   "outputs": [],
   "source": [
    "average_data = {}\n",
    "for col in df.columns:\n",
    "    if df[col].dtypes != object:\n",
    "        average_data[col] = df[col].mean()\n",
    "\n",
    "with open('average_data.json', 'w') as outfile:\n",
    "    json.dump(average_data, outfile)"
   ]
  },
  {
   "cell_type": "code",
   "execution_count": 35,
   "metadata": {},
   "outputs": [],
   "source": [
    "res = df[df.price == 90000]"
   ]
  },
  {
   "cell_type": "code",
   "execution_count": 36,
   "metadata": {},
   "outputs": [
    {
     "data": {
      "text/plain": [
       "0"
      ]
     },
     "execution_count": 36,
     "metadata": {},
     "output_type": "execute_result"
    }
   ],
   "source": [
    "df.repair.isnull().sum()"
   ]
  },
  {
   "cell_type": "code",
   "execution_count": 37,
   "metadata": {},
   "outputs": [],
   "source": [
    "df, metro_le_encoder = encode_with_OneHotEncoder_and_delete_column(df,'underground_name')\n",
    "df, house_type_le_encoder = encode_with_OneHotEncoder_and_delete_column(df,'house_type')\n",
    "df, repair_le_encoder = encode_with_OneHotEncoder_and_delete_column(df,'repair')"
   ]
  },
  {
   "cell_type": "code",
   "execution_count": 38,
   "metadata": {},
   "outputs": [
    {
     "data": {
      "text/plain": [
       "(11592, 231)"
      ]
     },
     "execution_count": 38,
     "metadata": {},
     "output_type": "execute_result"
    }
   ],
   "source": [
    "df.shape"
   ]
  },
  {
   "cell_type": "code",
   "execution_count": 39,
   "metadata": {},
   "outputs": [
    {
     "name": "stdout",
     "output_type": "stream",
     "text": [
      "<class 'pandas.core.frame.DataFrame'>\n",
      "Index: 11592 entries, 165528286 to 167544860\n",
      "Columns: 231 entries, area to repair=отсутствует\n",
      "dtypes: float64(220), int64(10), object(1)\n",
      "memory usage: 20.5+ MB\n"
     ]
    }
   ],
   "source": [
    "df.info()"
   ]
  },
  {
   "cell_type": "code",
   "execution_count": 40,
   "metadata": {},
   "outputs": [],
   "source": [
    "df.price = df.price.map(lambda item: int(item['rub_price']) if 'rub_price' in item else np.nan)"
   ]
  },
  {
   "cell_type": "code",
   "execution_count": 41,
   "metadata": {},
   "outputs": [],
   "source": [
    "df = df[df.price <= 200000]"
   ]
  },
  {
   "cell_type": "code",
   "execution_count": 42,
   "metadata": {},
   "outputs": [],
   "source": [
    "df = df[df.price >= 15000]"
   ]
  },
  {
   "cell_type": "code",
   "execution_count": 43,
   "metadata": {},
   "outputs": [],
   "source": [
    "df = df.dropna(axis=0, how='any', subset=['price'])"
   ]
  },
  {
   "cell_type": "code",
   "execution_count": 51,
   "metadata": {},
   "outputs": [],
   "source": [
    "df = df.drop(df.query('20000 < price < 60000').sample(frac=.4).index)"
   ]
  },
  {
   "cell_type": "code",
   "execution_count": 58,
   "metadata": {},
   "outputs": [],
   "source": [
    "df = df.drop(df.query('price == 25000').sample(frac=.5).index)"
   ]
  },
  {
   "cell_type": "code",
   "execution_count": 66,
   "metadata": {},
   "outputs": [
    {
     "data": {
      "image/png": "[encoded data removed]",
      "text/plain": [
       "<matplotlib.figure.Figure at 0x7f1a955d0080>"
      ]
     },
     "metadata": {},
     "output_type": "display_data"
    }
   ],
   "source": [
    "%matplotlib inline\n",
    "import seaborn as sns\n",
    "\n",
    "# Распределение квартир по цене:\n",
    "sns.distplot(df.price / 1000);"
   ]
  },
  {
   "cell_type": "code",
   "execution_count": 60,
   "metadata": {},
   "outputs": [],
   "source": [
    "with open('features.json', 'w') as outfile:\n",
    "    all_columns = {}\n",
    "    all_columns['features'] = df.columns.tolist()\n",
    "    json.dump(all_columns, outfile)"
   ]
  },
  {
   "cell_type": "code",
   "execution_count": 61,
   "metadata": {},
   "outputs": [
    {
     "data": {
      "text/plain": [
       "(7241, 231)"
      ]
     },
     "execution_count": 61,
     "metadata": {},
     "output_type": "execute_result"
    }
   ],
   "source": [
    "df.shape"
   ]
  },
  {
   "cell_type": "code",
   "execution_count": 62,
   "metadata": {},
   "outputs": [],
   "source": [
    "df.to_csv('flats_data.csv')"
   ]
  },
  {
   "cell_type": "code",
   "execution_count": 67,
   "metadata": {},
   "outputs": [],
   "source": [
    "res = df[df.price == 90000]"
   ]
  },
  {
   "cell_type": "code",
   "execution_count": 70,
   "metadata": {},
   "outputs": [
    {
     "data": {
      "text/html": [
       "<div>\n",
       "<style>\n",
       "    .dataframe thead tr:only-child th {\n",
       "        text-align: right;\n",
       "    }\n",
       "\n",
       "    .dataframe thead th {\n",
       "        text-align: left;\n",
       "    }\n",
       "\n",
       "    .dataframe tbody tr th {\n",
       "        vertical-align: top;\n",
       "    }\n",
       "</style>\n",
       "<table border=\"1\" class=\"dataframe\">\n",
       "  <thead>\n",
       "    <tr style=\"text-align: right;\">\n",
       "      <th></th>\n",
       "      <th>area</th>\n",
       "      <th>combined_bathroom_count</th>\n",
       "      <th>construction_year</th>\n",
       "      <th>kitchen_area</th>\n",
       "      <th>living_area</th>\n",
       "      <th>price</th>\n",
       "      <th>rooms</th>\n",
       "      <th>has_balcony</th>\n",
       "      <th>has_loggia</th>\n",
       "      <th>curr_floor</th>\n",
       "      <th>...</th>\n",
       "      <th>house_type=кирпично-монолитный</th>\n",
       "      <th>house_type=кирпичный</th>\n",
       "      <th>house_type=монолитный</th>\n",
       "      <th>house_type=панельный</th>\n",
       "      <th>house_type=сталинский</th>\n",
       "      <th>house_type=старый фонд</th>\n",
       "      <th>repair=дизайнерский</th>\n",
       "      <th>repair=евроремонт</th>\n",
       "      <th>repair=косметический</th>\n",
       "      <th>repair=отсутствует</th>\n",
       "    </tr>\n",
       "    <tr>\n",
       "      <th>_id</th>\n",
       "      <th></th>\n",
       "      <th></th>\n",
       "      <th></th>\n",
       "      <th></th>\n",
       "      <th></th>\n",
       "      <th></th>\n",
       "      <th></th>\n",
       "      <th></th>\n",
       "      <th></th>\n",
       "      <th></th>\n",
       "      <th></th>\n",
       "      <th></th>\n",
       "      <th></th>\n",
       "      <th></th>\n",
       "      <th></th>\n",
       "      <th></th>\n",
       "      <th></th>\n",
       "      <th></th>\n",
       "      <th></th>\n",
       "      <th></th>\n",
       "      <th></th>\n",
       "    </tr>\n",
       "  </thead>\n",
       "  <tbody>\n",
       "    <tr>\n",
       "      <th>165680395</th>\n",
       "      <td>97.0</td>\n",
       "      <td>2</td>\n",
       "      <td>2014</td>\n",
       "      <td>10.0</td>\n",
       "      <td>67.0</td>\n",
       "      <td>90000</td>\n",
       "      <td>3</td>\n",
       "      <td>1</td>\n",
       "      <td>0</td>\n",
       "      <td>9</td>\n",
       "      <td>...</td>\n",
       "      <td>0.0</td>\n",
       "      <td>0.0</td>\n",
       "      <td>1.0</td>\n",
       "      <td>0.0</td>\n",
       "      <td>0.0</td>\n",
       "      <td>0.0</td>\n",
       "      <td>0.0</td>\n",
       "      <td>1.0</td>\n",
       "      <td>0.0</td>\n",
       "      <td>0.0</td>\n",
       "    </tr>\n",
       "    <tr>\n",
       "      <th>166760698</th>\n",
       "      <td>54.0</td>\n",
       "      <td>1</td>\n",
       "      <td>1971</td>\n",
       "      <td>6.0</td>\n",
       "      <td>35.0</td>\n",
       "      <td>90000</td>\n",
       "      <td>2</td>\n",
       "      <td>1</td>\n",
       "      <td>0</td>\n",
       "      <td>7</td>\n",
       "      <td>...</td>\n",
       "      <td>0.0</td>\n",
       "      <td>1.0</td>\n",
       "      <td>0.0</td>\n",
       "      <td>0.0</td>\n",
       "      <td>0.0</td>\n",
       "      <td>0.0</td>\n",
       "      <td>0.0</td>\n",
       "      <td>1.0</td>\n",
       "      <td>0.0</td>\n",
       "      <td>0.0</td>\n",
       "    </tr>\n",
       "    <tr>\n",
       "      <th>165680393</th>\n",
       "      <td>97.0</td>\n",
       "      <td>2</td>\n",
       "      <td>2014</td>\n",
       "      <td>10.0</td>\n",
       "      <td>67.0</td>\n",
       "      <td>90000</td>\n",
       "      <td>3</td>\n",
       "      <td>1</td>\n",
       "      <td>0</td>\n",
       "      <td>9</td>\n",
       "      <td>...</td>\n",
       "      <td>0.0</td>\n",
       "      <td>0.0</td>\n",
       "      <td>1.0</td>\n",
       "      <td>0.0</td>\n",
       "      <td>0.0</td>\n",
       "      <td>0.0</td>\n",
       "      <td>0.0</td>\n",
       "      <td>1.0</td>\n",
       "      <td>0.0</td>\n",
       "      <td>0.0</td>\n",
       "    </tr>\n",
       "    <tr>\n",
       "      <th>166760699</th>\n",
       "      <td>54.0</td>\n",
       "      <td>1</td>\n",
       "      <td>1971</td>\n",
       "      <td>6.0</td>\n",
       "      <td>35.0</td>\n",
       "      <td>90000</td>\n",
       "      <td>2</td>\n",
       "      <td>1</td>\n",
       "      <td>0</td>\n",
       "      <td>7</td>\n",
       "      <td>...</td>\n",
       "      <td>0.0</td>\n",
       "      <td>1.0</td>\n",
       "      <td>0.0</td>\n",
       "      <td>0.0</td>\n",
       "      <td>0.0</td>\n",
       "      <td>0.0</td>\n",
       "      <td>0.0</td>\n",
       "      <td>1.0</td>\n",
       "      <td>0.0</td>\n",
       "      <td>0.0</td>\n",
       "    </tr>\n",
       "    <tr>\n",
       "      <th>163925414</th>\n",
       "      <td>100.0</td>\n",
       "      <td>1</td>\n",
       "      <td>1976</td>\n",
       "      <td>10.0</td>\n",
       "      <td>68.0</td>\n",
       "      <td>90000</td>\n",
       "      <td>3</td>\n",
       "      <td>0</td>\n",
       "      <td>0</td>\n",
       "      <td>10</td>\n",
       "      <td>...</td>\n",
       "      <td>1.0</td>\n",
       "      <td>0.0</td>\n",
       "      <td>0.0</td>\n",
       "      <td>0.0</td>\n",
       "      <td>0.0</td>\n",
       "      <td>0.0</td>\n",
       "      <td>0.0</td>\n",
       "      <td>1.0</td>\n",
       "      <td>0.0</td>\n",
       "      <td>0.0</td>\n",
       "    </tr>\n",
       "  </tbody>\n",
       "</table>\n",
       "<p>5 rows × 231 columns</p>\n",
       "</div>"
      ],
      "text/plain": [
       "            area  combined_bathroom_count  construction_year  kitchen_area  \\\n",
       "_id                                                                          \n",
       "165680395   97.0                        2               2014          10.0   \n",
       "166760698   54.0                        1               1971           6.0   \n",
       "165680393   97.0                        2               2014          10.0   \n",
       "166760699   54.0                        1               1971           6.0   \n",
       "163925414  100.0                        1               1976          10.0   \n",
       "\n",
       "           living_area  price  rooms  has_balcony  has_loggia  curr_floor  \\\n",
       "_id                                                                         \n",
       "165680395         67.0  90000      3            1           0           9   \n",
       "166760698         35.0  90000      2            1           0           7   \n",
       "165680393         67.0  90000      3            1           0           9   \n",
       "166760699         35.0  90000      2            1           0           7   \n",
       "163925414         68.0  90000      3            0           0          10   \n",
       "\n",
       "                  ...          house_type=кирпично-монолитный  \\\n",
       "_id               ...                                           \n",
       "165680395         ...                                     0.0   \n",
       "166760698         ...                                     0.0   \n",
       "165680393         ...                                     0.0   \n",
       "166760699         ...                                     0.0   \n",
       "163925414         ...                                     1.0   \n",
       "\n",
       "           house_type=кирпичный  house_type=монолитный  house_type=панельный  \\\n",
       "_id                                                                            \n",
       "165680395                   0.0                    1.0                   0.0   \n",
       "166760698                   1.0                    0.0                   0.0   \n",
       "165680393                   0.0                    1.0                   0.0   \n",
       "166760699                   1.0                    0.0                   0.0   \n",
       "163925414                   0.0                    0.0                   0.0   \n",
       "\n",
       "           house_type=сталинский  house_type=старый фонд  repair=дизайнерский  \\\n",
       "_id                                                                             \n",
       "165680395                    0.0                     0.0                  0.0   \n",
       "166760698                    0.0                     0.0                  0.0   \n",
       "165680393                    0.0                     0.0                  0.0   \n",
       "166760699                    0.0                     0.0                  0.0   \n",
       "163925414                    0.0                     0.0                  0.0   \n",
       "\n",
       "           repair=евроремонт  repair=косметический  repair=отсутствует  \n",
       "_id                                                                     \n",
       "165680395                1.0                   0.0                 0.0  \n",
       "166760698                1.0                   0.0                 0.0  \n",
       "165680393                1.0                   0.0                 0.0  \n",
       "166760699                1.0                   0.0                 0.0  \n",
       "163925414                1.0                   0.0                 0.0  \n",
       "\n",
       "[5 rows x 231 columns]"
      ]
     },
     "execution_count": 70,
     "metadata": {},
     "output_type": "execute_result"
    }
   ],
   "source": [
    "res.head()"
   ]
  },
  {
   "cell_type": "code",
   "execution_count": null,
   "metadata": {},
   "outputs": [],
   "source": []
  }
 ],
 "metadata": {
  "kernelspec": {
   "display_name": "Python 3",
   "language": "python",
   "name": "python3"
  },
  "language_info": {
   "codemirror_mode": {
    "name": "ipython",
    "version": 3
   },
   "file_extension": ".py",
   "mimetype": "text/x-python",
   "name": "python",
   "nbconvert_exporter": "python",
   "pygments_lexer": "ipython3",
   "version": "3.5.3"
  }
 },
 "nbformat": 4,
 "nbformat_minor": 2
}
