{
 "cells": [
  {
   "cell_type": "code",
   "execution_count": 1,
   "metadata": {},
   "outputs": [
    {
     "name": "stderr",
     "output_type": "stream",
     "text": [
      "/usr/local/lib/python3.5/dist-packages/sklearn/cross_validation.py:41: DeprecationWarning: This module was deprecated in version 0.18 in favor of the model_selection module into which all the refactored classes and functions are moved. Also note that the interface of the new CV iterators are different from that of this module. This module will be removed in 0.20.\n",
      "  \"This module will be removed in 0.20.\", DeprecationWarning)\n"
     ]
    }
   ],
   "source": [
    "import pandas as pd\n",
    "import numpy as np\n",
    "from sklearn.ensemble import RandomForestRegressor\n",
    "from sklearn.cross_validation import KFold\n",
    "from sklearn.cross_validation import cross_val_score\n",
    "from sklearn.cross_validation import train_test_split\n",
    "from sklearn.model_selection import GridSearchCV\n",
    "from sklearn.externals import joblib\n",
    "from sklearn.metrics import mean_absolute_error\n",
    "from sklearn.metrics import mean_squared_error"
   ]
  },
  {
   "cell_type": "code",
   "execution_count": 2,
   "metadata": {},
   "outputs": [],
   "source": [
    "df = pd.read_csv('../features_extractor/flats_data.csv')\n",
    "\n",
    "X = df.drop(['price'], axis=1)\n",
    "Y = df['price'].map(lambda x: np.log(x))\n",
    "X.set_index(X['_id'], inplace=True)\n",
    "X = X.drop('_id', axis=1)"
   ]
  },
  {
   "cell_type": "code",
   "execution_count": 3,
   "metadata": {},
   "outputs": [],
   "source": [
    "#X_train, X_test, y_train, y_test = train_test_split(X, Y, test_size=0.3, random_state=42)"
   ]
  },
  {
   "cell_type": "markdown",
   "metadata": {},
   "source": [
    "## Random Forest"
   ]
  },
  {
   "cell_type": "code",
   "execution_count": 4,
   "metadata": {},
   "outputs": [
    {
     "name": "stdout",
     "output_type": "stream",
     "text": [
      "1\n",
      "2\n",
      "3\n",
      "4\n",
      "5\n",
      "6\n",
      "7\n",
      "8\n",
      "9\n",
      "10\n",
      "11\n",
      "12\n",
      "13\n",
      "14\n",
      "15\n",
      "16\n",
      "17\n",
      "18\n",
      "19\n",
      "20\n",
      "21\n",
      "22\n",
      "23\n",
      "24\n",
      "25\n",
      "26\n",
      "27\n",
      "28\n",
      "29\n",
      "30\n",
      "31\n",
      "32\n",
      "33\n",
      "34\n",
      "35\n",
      "36\n",
      "37\n",
      "38\n",
      "39\n",
      "40\n",
      "41\n",
      "42\n",
      "43\n",
      "44\n",
      "45\n",
      "46\n",
      "47\n",
      "48\n",
      "49\n",
      "50\n",
      "51\n",
      "52\n",
      "53\n",
      "54\n",
      "55\n",
      "56\n",
      "57\n",
      "58\n",
      "59\n",
      "60\n",
      "61\n",
      "62\n",
      "63\n",
      "64\n",
      "65\n",
      "66\n",
      "67\n",
      "68\n",
      "69\n",
      "70\n",
      "71\n",
      "72\n",
      "73\n",
      "74\n",
      "75\n",
      "76\n",
      "77\n",
      "78\n",
      "79\n",
      "80\n",
      "81\n",
      "82\n",
      "83\n",
      "84\n",
      "85\n",
      "86\n",
      "87\n",
      "88\n",
      "89\n",
      "90\n",
      "91\n",
      "92\n",
      "93\n",
      "94\n",
      "95\n",
      "96\n",
      "97\n",
      "98\n",
      "99\n",
      "(97, 0.84866218592625575)\n"
     ]
    }
   ],
   "source": [
    "records_count = Y.count()\n",
    "kf = KFold(n=records_count, n_folds=7, shuffle=True, random_state=42)\n",
    "\n",
    "estims = {}\n",
    "\n",
    "for k in range(1, 100, 1):\n",
    "    clf = RandomForestRegressor(n_estimators=k, random_state=0)\n",
    "    quality = cross_val_score(clf, X, Y, scoring='r2', cv=kf).mean()\n",
    "    print(k)\n",
    "    estims[k] = quality\n",
    "\n",
    "best_estim = sorted(estims.items(), key=lambda x: -x[1])\n",
    "print(best_estim[0])"
   ]
  },
  {
   "cell_type": "code",
   "execution_count": 5,
   "metadata": {},
   "outputs": [],
   "source": [
    "# clf.fit(X_train, y_train)\n",
    "# y_pred = clf.predict(X_test)\n",
    "# forest_mse = mean_squared_error(y_pred, y_test)\n",
    "# forest_rmse = np.sqrt(forest_mse)\n",
    "# print('Random Forest RMSE: %.4f' % forest_rmse)"
   ]
  },
  {
   "cell_type": "code",
   "execution_count": 9,
   "metadata": {},
   "outputs": [
    {
     "data": {
      "text/plain": [
       "['model_random_forest.pkl']"
      ]
     },
     "execution_count": 9,
     "metadata": {},
     "output_type": "execute_result"
    }
   ],
   "source": [
    "clf = RandomForestRegressor(n_estimators=11, random_state=42)\n",
    "clf.fit(X, Y)\n",
    "joblib.dump(clf, 'model_random_forest.pkl') "
   ]
  },
  {
   "cell_type": "code",
   "execution_count": 10,
   "metadata": {},
   "outputs": [
    {
     "name": "stdout",
     "output_type": "stream",
     "text": [
      "area 0.642361373296\n",
      "house_type=панельный 0.0529477046736\n",
      "repair=косметический 0.0466349488262\n",
      "underground_time 0.0261422928911\n",
      "living_area 0.024465243478\n",
      "construction_year 0.0208864312481\n",
      "underground_way 0.0205971023672\n",
      "total_floor 0.0198949248184\n",
      "kitchen_area 0.0159243411754\n",
      "curr_floor 0.0147814443935\n"
     ]
    }
   ],
   "source": [
    "features = X.columns.values\n",
    "importances = clf.feature_importances_\n",
    "indices = np.argsort(importances)[::-1]\n",
    "\n",
    "indices = indices[:10]\n",
    "for i in range(0, len(indices)):\n",
    "    print(str(features[indices[i]]) + \" \" + str(importances[indices[i]]))"
   ]
  },
  {
   "cell_type": "code",
   "execution_count": 8,
   "metadata": {},
   "outputs": [
    {
     "name": "stdout",
     "output_type": "stream",
     "text": [
      "1 0.720604407543\n",
      "6 0.830368044059\n",
      "11 0.838535690564\n",
      "16 0.842318423207\n",
      "21 0.844704669274\n",
      "26 0.845012558499\n",
      "31 0.846019658097\n",
      "36 0.846022954838\n",
      "41 0.846517775097\n",
      "46 0.847194903361\n",
      "51 0.847764569028\n",
      "56 0.848022025893\n",
      "61 0.847916731436\n",
      "66 0.848003189495\n",
      "71 0.848171344753\n"
     ]
    }
   ],
   "source": [
    "def determine_forest_quality(trees_count):\n",
    "    clf = RandomForestRegressor(n_estimators = trees_count, random_state=1)\n",
    "    return cross_val_score(clf, X, Y, scoring='r2', cv=kf).mean()\n",
    "\n",
    "for k in range(1,75,5):\n",
    "    quality = determine_forest_quality(k)\n",
    "    print (k, quality)"
   ]
  },
  {
   "cell_type": "code",
   "execution_count": 12,
   "metadata": {},
   "outputs": [
    {
     "name": "stdout",
     "output_type": "stream",
     "text": [
      "0 combined_bathroom_count 0.64\n",
      "1 house_type=сталинский 0.05\n",
      "2 repair=отсутствует 0.05\n",
      "3 underground_name=авиамоторная 0.03\n",
      "4 rooms 0.02\n",
      "5 kitchen_area 0.02\n",
      "6 underground_time 0.02\n",
      "7 is_center 0.02\n",
      "8 living_area 0.02\n",
      "9 total_floor 0.01\n"
     ]
    }
   ],
   "source": [
    "features = X.columns.values\n",
    "importances = clf.feature_importances_\n",
    "indices = np.argsort(importances)[::-1]\n",
    "\n",
    "num_to_plot = 10\n",
    "feature_indices = [ind+1 for ind in indices[:num_to_plot]]\n",
    "\n",
    "for i in range(num_to_plot):\n",
    "    print (i, features[feature_indices[i]], round(importances[indices[i]],2))"
   ]
  },
  {
   "cell_type": "code",
   "execution_count": null,
   "metadata": {},
   "outputs": [],
   "source": []
  }
 ],
 "metadata": {
  "kernelspec": {
   "display_name": "Python 3",
   "language": "python",
   "name": "python3"
  },
  "language_info": {
   "codemirror_mode": {
    "name": "ipython",
    "version": 3
   },
   "file_extension": ".py",
   "mimetype": "text/x-python",
   "name": "python",
   "nbconvert_exporter": "python",
   "pygments_lexer": "ipython3",
   "version": "3.5.3"
  }
 },
 "nbformat": 4,
 "nbformat_minor": 2
}
