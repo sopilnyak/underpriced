{
 "cells": [
  {
   "cell_type": "code",
   "execution_count": 19,
   "metadata": {},
   "outputs": [],
   "source": [
    "import pandas as pd\n",
    "import numpy as np\n",
    "from sklearn.ensemble import RandomForestRegressor\n",
    "from sklearn.cross_validation import KFold\n",
    "from sklearn.cross_validation import cross_val_score\n",
    "from sklearn.cross_validation import train_test_split\n",
    "from sklearn.model_selection import GridSearchCV\n",
    "from sklearn.externals import joblib\n",
    "from sklearn.metrics import mean_absolute_error\n",
    "from sklearn.metrics import mean_squared_error"
   ]
  },
  {
   "cell_type": "code",
   "execution_count": 20,
   "metadata": {},
   "outputs": [],
   "source": [
    "df = pd.read_csv('../features_extractor/flats_data.csv')\n",
    "\n",
    "X = df.drop(['price'], axis=1)\n",
    "# Y = df['price'].map(lambda x: np.log(x))\n",
    "Y = df['price']\n",
    "X.set_index(X['_id'], inplace=True)\n",
    "X = X.drop('_id', axis=1)"
   ]
  },
  {
   "cell_type": "code",
   "execution_count": 21,
   "metadata": {},
   "outputs": [],
   "source": [
    "X_train, X_test, y_train, y_test = train_test_split(X, Y, test_size=0.3, random_state=42)"
   ]
  },
  {
   "cell_type": "markdown",
   "metadata": {},
   "source": [
    "## Random Forest"
   ]
  },
  {
   "cell_type": "code",
   "execution_count": 22,
   "metadata": {},
   "outputs": [
    {
     "name": "stdout",
     "output_type": "stream",
     "text": [
      "1 0.609883448766\n",
      "6 0.778076861379\n",
      "11 0.79419967257\n",
      "16 0.800504961011\n",
      "21 0.80300883213\n",
      "26 0.804648296269\n",
      "31 0.806125273078\n",
      "36 0.807225654287\n",
      "41 0.808010645788\n",
      "46 0.808224255229\n",
      "51 0.808888959213\n",
      "56 0.809275362093\n",
      "61 0.809603156109\n",
      "66 0.809695553473\n",
      "71 0.809592349726\n",
      "(66, 0.8096955534732031)\n"
     ]
    }
   ],
   "source": [
    "records_count = Y.count()\n",
    "kf = KFold(n=records_count, n_folds=7, shuffle=True, random_state=42)\n",
    "\n",
    "estims = {}\n",
    "\n",
    "for k in range(1, 75, 5):\n",
    "    clf = RandomForestRegressor(n_estimators=k, random_state=0)\n",
    "    quality = cross_val_score(clf, X, Y, scoring='r2', cv=kf).mean()\n",
    "    print(k, quality)\n",
    "    estims[k] = quality\n",
    "\n",
    "best_estim = sorted(estims.items(), key=lambda x: -x[1])\n",
    "print(best_estim[0])"
   ]
  },
  {
   "cell_type": "code",
   "execution_count": null,
   "metadata": {},
   "outputs": [],
   "source": [
    "# clf.fit(X_train, y_train)\n",
    "# y_pred = clf.predict(X_test)\n",
    "# forest_mse = mean_squared_error(y_pred, y_test)\n",
    "# forest_rmse = np.sqrt(forest_mse)\n",
    "# print('Random Forest RMSE: %.4f' % forest_rmse)"
   ]
  },
  {
   "cell_type": "code",
   "execution_count": 30,
   "metadata": {},
   "outputs": [
    {
     "name": "stdout",
     "output_type": "stream",
     "text": [
      "Random Forest R squared\": 0.9647\n"
     ]
    }
   ],
   "source": [
    "clf = RandomForestRegressor(random_state=42)\n",
    "clf.fit(X, Y)\n",
    "joblib.dump(clf, 'model_random_forest.pkl') \n",
    "print('Random Forest R squared\": %.4f' % clf.score(X, Y))"
   ]
  },
  {
   "cell_type": "code",
   "execution_count": 24,
   "metadata": {},
   "outputs": [
    {
     "name": "stdout",
     "output_type": "stream",
     "text": [
      "area 0.588482397332\n",
      "house_type=панельный 0.0663301281207\n",
      "total_floor 0.0340522479956\n",
      "construction_year 0.0315176963583\n",
      "living_area 0.0279902120439\n",
      "underground_time 0.0251464317988\n",
      "repair=косметический 0.0234735251906\n",
      "kitchen_area 0.0220028651872\n",
      "curr_floor 0.0189931743875\n",
      "repair=дизайнерский 0.0153549429103\n"
     ]
    }
   ],
   "source": [
    "features = X.columns.values\n",
    "importances = clf.feature_importances_\n",
    "indices = np.argsort(importances)[::-1]\n",
    "\n",
    "indices = indices[:10]\n",
    "for i in range(0, len(indices)):\n",
    "    print(str(features[indices[i]]) + \" \" + str(importances[indices[i]]))"
   ]
  },
  {
   "cell_type": "code",
   "execution_count": null,
   "metadata": {},
   "outputs": [],
   "source": [
    "# records_count = Y.count()\n",
    "# kf = KFold(n=records_count, n_folds=7, shuffle=True, random_state=42)\n",
    "\n",
    "# def determine_forest_quality(trees_count):\n",
    "#     clf = RandomForestRegressor(n_estimators = trees_count, random_state=1)\n",
    "#     return cross_val_score(clf, X, Y, scoring='r2', cv=kf).mean()\n",
    "\n",
    "# for k in range(1,75,5):\n",
    "#     quality = determine_forest_quality(k)\n",
    "#     print (k, quality)"
   ]
  },
  {
   "cell_type": "code",
   "execution_count": null,
   "metadata": {},
   "outputs": [],
   "source": [
    "# clf = RandomForestRegressor(n_estimators = 71, random_state=1)\n",
    "# clf.fit(X, Y)"
   ]
  },
  {
   "cell_type": "code",
   "execution_count": null,
   "metadata": {},
   "outputs": [],
   "source": [
    "# joblib.dump(clf, 'model_random_forest.pkl') "
   ]
  },
  {
   "cell_type": "code",
   "execution_count": null,
   "metadata": {},
   "outputs": [],
   "source": [
    "# features = X.columns.values\n",
    "# importances = clf.feature_importances_\n",
    "# indices = np.argsort(importances)[::-1]\n",
    "\n",
    "# num_to_plot = 10\n",
    "# feature_indices = [ind+1 for ind in indices[:num_to_plot]]\n",
    "\n",
    "# for i in range(num_to_plot):\n",
    "#     print (i, features[feature_indices[i]], round(importances[indices[i]],2))"
   ]
  },
  {
   "cell_type": "code",
   "execution_count": 6,
   "metadata": {},
   "outputs": [],
   "source": [
    "flat = pd.read_csv('/home/alena/Documents/underpriced/one_flat.csv')"
   ]
  },
  {
   "cell_type": "code",
   "execution_count": 7,
   "metadata": {},
   "outputs": [
    {
     "data": {
      "text/plain": [
       "0    1.0\n",
       "Name: underground_name=охотный ряд, dtype: float64"
      ]
     },
     "execution_count": 7,
     "metadata": {},
     "output_type": "execute_result"
    }
   ],
   "source": [
    "flat['underground_name=охотный ряд']"
   ]
  },
  {
   "cell_type": "code",
   "execution_count": 8,
   "metadata": {},
   "outputs": [],
   "source": [
    "flat = flat.drop('Unnamed: 0', axis=1)"
   ]
  },
  {
   "cell_type": "code",
   "execution_count": 9,
   "metadata": {},
   "outputs": [
    {
     "data": {
      "text/plain": [
       "array([ 53100.])"
      ]
     },
     "execution_count": 9,
     "metadata": {},
     "output_type": "execute_result"
    }
   ],
   "source": [
    "clf.predict(flat)"
   ]
  },
  {
   "cell_type": "code",
   "execution_count": 10,
   "metadata": {},
   "outputs": [
    {
     "data": {
      "text/plain": [
       "53100"
      ]
     },
     "execution_count": 10,
     "metadata": {},
     "output_type": "execute_result"
    }
   ],
   "source": [
    "round(clf.predict(flat).tolist()[0])"
   ]
  },
  {
   "cell_type": "code",
   "execution_count": 16,
   "metadata": {},
   "outputs": [
    {
     "data": {
      "text/html": [
       "<div>\n",
       "<style>\n",
       "    .dataframe thead tr:only-child th {\n",
       "        text-align: right;\n",
       "    }\n",
       "\n",
       "    .dataframe thead th {\n",
       "        text-align: left;\n",
       "    }\n",
       "\n",
       "    .dataframe tbody tr th {\n",
       "        vertical-align: top;\n",
       "    }\n",
       "</style>\n",
       "<table border=\"1\" class=\"dataframe\">\n",
       "  <thead>\n",
       "    <tr style=\"text-align: right;\">\n",
       "      <th></th>\n",
       "      <th>area</th>\n",
       "      <th>combined_bathroom_count</th>\n",
       "      <th>construction_year</th>\n",
       "      <th>curr_floor</th>\n",
       "      <th>has_balcony</th>\n",
       "      <th>has_loggia</th>\n",
       "      <th>house_type=блочный</th>\n",
       "      <th>house_type=деревянный</th>\n",
       "      <th>house_type=кирпично-монолитный</th>\n",
       "      <th>house_type=кирпичный</th>\n",
       "      <th>...</th>\n",
       "      <th>underground_name=шипиловская</th>\n",
       "      <th>underground_name=шоссе энтузиастов</th>\n",
       "      <th>underground_name=щелковская</th>\n",
       "      <th>underground_name=щукинская</th>\n",
       "      <th>underground_name=электрозаводская</th>\n",
       "      <th>underground_name=юго-западная</th>\n",
       "      <th>underground_name=южная</th>\n",
       "      <th>underground_name=ясенево</th>\n",
       "      <th>underground_time</th>\n",
       "      <th>underground_way</th>\n",
       "    </tr>\n",
       "  </thead>\n",
       "  <tbody>\n",
       "    <tr>\n",
       "      <th>0</th>\n",
       "      <td>50.0</td>\n",
       "      <td>1</td>\n",
       "      <td>1976</td>\n",
       "      <td>3</td>\n",
       "      <td>0</td>\n",
       "      <td>0</td>\n",
       "      <td>0</td>\n",
       "      <td>0</td>\n",
       "      <td>0</td>\n",
       "      <td>0</td>\n",
       "      <td>...</td>\n",
       "      <td>0</td>\n",
       "      <td>0</td>\n",
       "      <td>0</td>\n",
       "      <td>0</td>\n",
       "      <td>0</td>\n",
       "      <td>0</td>\n",
       "      <td>0</td>\n",
       "      <td>0</td>\n",
       "      <td>12</td>\n",
       "      <td>-1</td>\n",
       "    </tr>\n",
       "  </tbody>\n",
       "</table>\n",
       "<p>1 rows × 230 columns</p>\n",
       "</div>"
      ],
      "text/plain": [
       "   area  combined_bathroom_count  construction_year  curr_floor  has_balcony  \\\n",
       "0  50.0                        1               1976           3            0   \n",
       "\n",
       "   has_loggia  house_type=блочный  house_type=деревянный  \\\n",
       "0           0                   0                      0   \n",
       "\n",
       "   house_type=кирпично-монолитный  house_type=кирпичный       ...         \\\n",
       "0                               0                     0       ...          \n",
       "\n",
       "   underground_name=шипиловская  underground_name=шоссе энтузиастов  \\\n",
       "0                             0                                   0   \n",
       "\n",
       "   underground_name=щелковская  underground_name=щукинская  \\\n",
       "0                            0                           0   \n",
       "\n",
       "   underground_name=электрозаводская  underground_name=юго-западная  \\\n",
       "0                                  0                              0   \n",
       "\n",
       "   underground_name=южная  underground_name=ясенево  underground_time  \\\n",
       "0                       0                         0                12   \n",
       "\n",
       "   underground_way  \n",
       "0               -1  \n",
       "\n",
       "[1 rows x 230 columns]"
      ]
     },
     "execution_count": 16,
     "metadata": {},
     "output_type": "execute_result"
    }
   ],
   "source": [
    "flat"
   ]
  },
  {
   "cell_type": "code",
   "execution_count": 18,
   "metadata": {},
   "outputs": [
    {
     "data": {
      "text/plain": [
       "0    12\n",
       "Name: underground_time, dtype: int64"
      ]
     },
     "execution_count": 18,
     "metadata": {},
     "output_type": "execute_result"
    }
   ],
   "source": [
    "flat['underground_time']"
   ]
  },
  {
   "cell_type": "code",
   "execution_count": null,
   "metadata": {},
   "outputs": [],
   "source": []
  }
 ],
 "metadata": {
  "kernelspec": {
   "display_name": "Python 3",
   "language": "python",
   "name": "python3"
  },
  "language_info": {
   "codemirror_mode": {
    "name": "ipython",
    "version": 3
   },
   "file_extension": ".py",
   "mimetype": "text/x-python",
   "name": "python",
   "nbconvert_exporter": "python",
   "pygments_lexer": "ipython3",
   "version": "3.5.3"
  }
 },
 "nbformat": 4,
 "nbformat_minor": 2
}
