{
 "cells": [
  {
   "cell_type": "code",
   "execution_count": 60,
   "metadata": {},
   "outputs": [],
   "source": [
    "import pandas as pd\n",
    "import numpy as np\n",
    "from sklearn.ensemble import RandomForestRegressor\n",
    "from sklearn.cross_validation import KFold\n",
    "from sklearn.cross_validation import cross_val_score\n",
    "from sklearn.cross_validation import train_test_split\n",
    "from sklearn.model_selection import GridSearchCV\n",
    "from sklearn.externals import joblib\n",
    "from sklearn.metrics import mean_absolute_error\n",
    "from sklearn.metrics import mean_squared_error"
   ]
  },
  {
   "cell_type": "code",
   "execution_count": 61,
   "metadata": {},
   "outputs": [],
   "source": [
    "df = pd.read_csv('../features_extractor/flats_data.csv')\n",
    "\n",
    "X = df.drop(['price'], axis=1)\n",
    "# Y = df['price'].map(lambda x: np.log(x))\n",
    "Y = df['price']\n",
    "X.set_index(X['_id'], inplace=True)\n",
    "X = X.drop('_id', axis=1)"
   ]
  },
  {
   "cell_type": "code",
   "execution_count": 62,
   "metadata": {},
   "outputs": [],
   "source": [
    "X_train, X_test, y_train, y_test = train_test_split(X, Y, test_size=0.3, random_state=42)"
   ]
  },
  {
   "cell_type": "markdown",
   "metadata": {},
   "source": [
    "## Random Forest"
   ]
  },
  {
   "cell_type": "code",
   "execution_count": 63,
   "metadata": {},
   "outputs": [
    {
     "name": "stdout",
     "output_type": "stream",
     "text": [
      "1 0.609883448766\n",
      "4 0.75964269008\n",
      "7 0.782880888876\n",
      "10 0.791748530452\n",
      "13 0.797337565664\n",
      "16 0.800504961011\n",
      "19 0.801913834286\n",
      "22 0.802718360377\n",
      "25 0.804321315072\n",
      "28 0.80557328692\n",
      "31 0.806125273078\n",
      "34 0.806737770683\n",
      "37 0.807513359199\n",
      "40 0.807897334014\n",
      "43 0.808096720911\n",
      "46 0.808224255229\n",
      "49 0.80887406181\n",
      "52 0.809054652177\n",
      "55 0.809350835105\n",
      "58 0.809518851927\n",
      "61 0.809603156109\n",
      "64 0.809482362063\n",
      "67 0.809727821262\n",
      "70 0.809421423462\n",
      "73 0.809701506208\n",
      "76 0.809925277936\n",
      "79 0.809955206658\n",
      "82 0.810026384769\n",
      "85 0.809807247548\n",
      "88 0.809989579063\n",
      "91 0.81008962415\n",
      "94 0.810261675023\n",
      "97 0.810234650228\n",
      "100 0.810304315837\n",
      "(100, 0.81030431583731932)\n"
     ]
    }
   ],
   "source": [
    "records_count = Y.count()\n",
    "kf = KFold(n=records_count, n_folds=7, shuffle=True, random_state=42)\n",
    "\n",
    "estims = {}\n",
    "\n",
    "for k in range(1, 102, 3):\n",
    "    clf = RandomForestRegressor(n_estimators=k, random_state=0)\n",
    "    quality = cross_val_score(clf, X, Y, scoring='r2', cv=kf).mean()\n",
    "    print(k, quality)\n",
    "    estims[k] = quality\n",
    "\n",
    "best_estim = sorted(estims.items(), key=lambda x: -x[1])\n",
    "print(best_estim[0])"
   ]
  },
  {
   "cell_type": "code",
   "execution_count": null,
   "metadata": {},
   "outputs": [],
   "source": [
    "# clf.fit(X_train, y_train)\n",
    "# y_pred = clf.predict(X_test)\n",
    "# forest_mse = mean_squared_error(y_pred, y_test)\n",
    "# forest_rmse = np.sqrt(forest_mse)\n",
    "# print('Random Forest RMSE: %.4f' % forest_rmse)"
   ]
  },
  {
   "cell_type": "code",
   "execution_count": 64,
   "metadata": {},
   "outputs": [
    {
     "name": "stdout",
     "output_type": "stream",
     "text": [
      "Random Forest R squared\": 0.9751\n"
     ]
    }
   ],
   "source": [
    "clf = RandomForestRegressor(n_estimators=100, random_state=42)\n",
    "clf.fit(X, Y)\n",
    "joblib.dump(clf, 'model_random_forest.pkl') \n",
    "print('Random Forest R squared\": %.4f' % clf.score(X, Y))"
   ]
  },
  {
   "cell_type": "code",
   "execution_count": 65,
   "metadata": {},
   "outputs": [
    {
     "name": "stdout",
     "output_type": "stream",
     "text": [
      "area 0.588580643472\n",
      "house_type=панельный 0.0666016079381\n",
      "total_floor 0.0338000677503\n",
      "construction_year 0.0313830618577\n",
      "living_area 0.0282699016693\n",
      "underground_time 0.0253086440353\n",
      "repair=косметический 0.0231080768388\n",
      "kitchen_area 0.0221894125457\n",
      "curr_floor 0.0191888554519\n",
      "repair=дизайнерский 0.0154844377289\n"
     ]
    }
   ],
   "source": [
    "features = X.columns.values\n",
    "importances = clf.feature_importances_\n",
    "indices = np.argsort(importances)[::-1]\n",
    "\n",
    "indices = indices[:10]\n",
    "for i in range(0, len(indices)):\n",
    "    print(str(features[indices[i]]) + \" \" + str(importances[indices[i]]))"
   ]
  },
  {
   "cell_type": "code",
   "execution_count": null,
   "metadata": {},
   "outputs": [],
   "source": [
    "# records_count = Y.count()\n",
    "# kf = KFold(n=records_count, n_folds=7, shuffle=True, random_state=42)\n",
    "\n",
    "# def determine_forest_quality(trees_count):\n",
    "#     clf = RandomForestRegressor(n_estimators = trees_count, random_state=1)\n",
    "#     return cross_val_score(clf, X, Y, scoring='r2', cv=kf).mean()\n",
    "\n",
    "# for k in range(1,75,5):\n",
    "#     quality = determine_forest_quality(k)\n",
    "#     print (k, quality)"
   ]
  },
  {
   "cell_type": "code",
   "execution_count": null,
   "metadata": {},
   "outputs": [],
   "source": [
    "# clf = RandomForestRegressor(n_estimators = 71, random_state=1)\n",
    "# clf.fit(X, Y)"
   ]
  },
  {
   "cell_type": "code",
   "execution_count": null,
   "metadata": {},
   "outputs": [],
   "source": [
    "# joblib.dump(clf, 'model_random_forest.pkl') "
   ]
  },
  {
   "cell_type": "code",
   "execution_count": null,
   "metadata": {},
   "outputs": [],
   "source": [
    "# features = X.columns.values\n",
    "# importances = clf.feature_importances_\n",
    "# indices = np.argsort(importances)[::-1]\n",
    "\n",
    "# num_to_plot = 10\n",
    "# feature_indices = [ind+1 for ind in indices[:num_to_plot]]\n",
    "\n",
    "# for i in range(num_to_plot):\n",
    "#     print (i, features[feature_indices[i]], round(importances[indices[i]],2))"
   ]
  },
  {
   "cell_type": "code",
   "execution_count": 66,
   "metadata": {},
   "outputs": [],
   "source": [
    "flat = pd.read_csv('/home/alena/Documents/underpriced/one_flat.csv')"
   ]
  },
  {
   "cell_type": "code",
   "execution_count": 67,
   "metadata": {},
   "outputs": [
    {
     "data": {
      "text/plain": [
       "0    1.0\n",
       "Name: underground_name=охотный ряд, dtype: float64"
      ]
     },
     "execution_count": 67,
     "metadata": {},
     "output_type": "execute_result"
    }
   ],
   "source": [
    "flat['underground_name=охотный ряд']"
   ]
  },
  {
   "cell_type": "code",
   "execution_count": 68,
   "metadata": {},
   "outputs": [],
   "source": [
    "flat = flat.drop('Unnamed: 0', axis=1)"
   ]
  },
  {
   "cell_type": "code",
   "execution_count": 69,
   "metadata": {},
   "outputs": [
    {
     "data": {
      "text/plain": [
       "array([ 43320.])"
      ]
     },
     "execution_count": 69,
     "metadata": {},
     "output_type": "execute_result"
    }
   ],
   "source": [
    "clf.predict(flat)"
   ]
  },
  {
   "cell_type": "code",
   "execution_count": 70,
   "metadata": {},
   "outputs": [
    {
     "data": {
      "text/plain": [
       "43320"
      ]
     },
     "execution_count": 70,
     "metadata": {},
     "output_type": "execute_result"
    }
   ],
   "source": [
    "round(clf.predict(flat).tolist()[0])"
   ]
  },
  {
   "cell_type": "code",
   "execution_count": null,
   "metadata": {},
   "outputs": [],
   "source": []
  }
 ],
 "metadata": {
  "kernelspec": {
   "display_name": "Python 3",
   "language": "python",
   "name": "python3"
  },
  "language_info": {
   "codemirror_mode": {
    "name": "ipython",
    "version": 3
   },
   "file_extension": ".py",
   "mimetype": "text/x-python",
   "name": "python",
   "nbconvert_exporter": "python",
   "pygments_lexer": "ipython3",
   "version": "3.5.3"
  }
 },
 "nbformat": 4,
 "nbformat_minor": 2
}
