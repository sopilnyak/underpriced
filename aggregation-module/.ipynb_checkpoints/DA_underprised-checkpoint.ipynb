{
 "cells": [
  {
   "cell_type": "code",
   "execution_count": 49,
   "metadata": {},
   "outputs": [],
   "source": [
    "import json\n",
    "import pandas as pd\n",
    "import numpy as np\n",
    "\n",
    "df = pd.read_json(\"result.json\", orient='value')\n",
    "df = df.set_index(df['id'])"
   ]
  },
  {
   "cell_type": "code",
   "execution_count": 50,
   "metadata": {},
   "outputs": [
    {
     "data": {
      "text/html": [
       "<div>\n",
       "<style>\n",
       "    .dataframe thead tr:only-child th {\n",
       "        text-align: right;\n",
       "    }\n",
       "\n",
       "    .dataframe thead th {\n",
       "        text-align: left;\n",
       "    }\n",
       "\n",
       "    .dataframe tbody tr th {\n",
       "        vertical-align: top;\n",
       "    }\n",
       "</style>\n",
       "<table border=\"1\" class=\"dataframe\">\n",
       "  <thead>\n",
       "    <tr style=\"text-align: right;\">\n",
       "      <th></th>\n",
       "      <th>address</th>\n",
       "      <th>areas</th>\n",
       "      <th>floors</th>\n",
       "      <th>id</th>\n",
       "      <th>is_commission</th>\n",
       "      <th>price</th>\n",
       "      <th>rooms_number</th>\n",
       "      <th>underground</th>\n",
       "      <th>underground_distance</th>\n",
       "    </tr>\n",
       "    <tr>\n",
       "      <th>id</th>\n",
       "      <th></th>\n",
       "      <th></th>\n",
       "      <th></th>\n",
       "      <th></th>\n",
       "      <th></th>\n",
       "      <th></th>\n",
       "      <th></th>\n",
       "      <th></th>\n",
       "      <th></th>\n",
       "    </tr>\n",
       "  </thead>\n",
       "  <tbody>\n",
       "    <tr>\n",
       "      <th>163666477</th>\n",
       "      <td>Москва м.Курская район Басманный переулок Ляли...</td>\n",
       "      <td>[160.0, 20.0, 108.0]</td>\n",
       "      <td>[4, 4]</td>\n",
       "      <td>163666477</td>\n",
       "      <td>False</td>\n",
       "      <td>250000</td>\n",
       "      <td>5</td>\n",
       "      <td>Курская</td>\n",
       "      <td>5.0</td>\n",
       "    </tr>\n",
       "    <tr>\n",
       "      <th>164526162</th>\n",
       "      <td>Москва м.Полежаевская район Хорошевский Ходынс...</td>\n",
       "      <td>[56.0, 10.0, 31.0]</td>\n",
       "      <td>[2, 12]</td>\n",
       "      <td>164526162</td>\n",
       "      <td>False</td>\n",
       "      <td>75000</td>\n",
       "      <td>2</td>\n",
       "      <td>Полежаевская</td>\n",
       "      <td>12.0</td>\n",
       "    </tr>\n",
       "    <tr>\n",
       "      <th>150778308</th>\n",
       "      <td>Москва м.Деловой центр район Пресненский набер...</td>\n",
       "      <td>[520.0, 30.0, 480.0]</td>\n",
       "      <td>[54, 62]</td>\n",
       "      <td>150778308</td>\n",
       "      <td>False</td>\n",
       "      <td>1322771</td>\n",
       "      <td>5</td>\n",
       "      <td>Деловой центр</td>\n",
       "      <td>3.0</td>\n",
       "    </tr>\n",
       "    <tr>\n",
       "      <th>165185541</th>\n",
       "      <td>Москва м.Улица Скобелевская район Южное Бутово...</td>\n",
       "      <td>[38.0, 10.0, 22.0]</td>\n",
       "      <td>[2, 10]</td>\n",
       "      <td>165185541</td>\n",
       "      <td>True</td>\n",
       "      <td>27000</td>\n",
       "      <td>1</td>\n",
       "      <td>Улица Скобелевская</td>\n",
       "      <td>9.0</td>\n",
       "    </tr>\n",
       "    <tr>\n",
       "      <th>165390918</th>\n",
       "      <td>Москва м.Бабушкинская район Южное Медведково п...</td>\n",
       "      <td>[40.0, 10.0, 20.0]</td>\n",
       "      <td>[7, 9]</td>\n",
       "      <td>165390918</td>\n",
       "      <td>True</td>\n",
       "      <td>27000</td>\n",
       "      <td>1</td>\n",
       "      <td>Бабушкинская</td>\n",
       "      <td>15.0</td>\n",
       "    </tr>\n",
       "  </tbody>\n",
       "</table>\n",
       "</div>"
      ],
      "text/plain": [
       "                                                     address  \\\n",
       "id                                                             \n",
       "163666477  Москва м.Курская район Басманный переулок Ляли...   \n",
       "164526162  Москва м.Полежаевская район Хорошевский Ходынс...   \n",
       "150778308  Москва м.Деловой центр район Пресненский набер...   \n",
       "165185541  Москва м.Улица Скобелевская район Южное Бутово...   \n",
       "165390918  Москва м.Бабушкинская район Южное Медведково п...   \n",
       "\n",
       "                          areas    floors         id  is_commission    price  \\\n",
       "id                                                                             \n",
       "163666477  [160.0, 20.0, 108.0]    [4, 4]  163666477          False   250000   \n",
       "164526162    [56.0, 10.0, 31.0]   [2, 12]  164526162          False    75000   \n",
       "150778308  [520.0, 30.0, 480.0]  [54, 62]  150778308          False  1322771   \n",
       "165185541    [38.0, 10.0, 22.0]   [2, 10]  165185541           True    27000   \n",
       "165390918    [40.0, 10.0, 20.0]    [7, 9]  165390918           True    27000   \n",
       "\n",
       "           rooms_number         underground  underground_distance  \n",
       "id                                                                 \n",
       "163666477             5             Курская                   5.0  \n",
       "164526162             2        Полежаевская                  12.0  \n",
       "150778308             5       Деловой центр                   3.0  \n",
       "165185541             1  Улица Скобелевская                   9.0  \n",
       "165390918             1        Бабушкинская                  15.0  "
      ]
     },
     "execution_count": 50,
     "metadata": {},
     "output_type": "execute_result"
    }
   ],
   "source": [
    "df.head()"
   ]
  },
  {
   "cell_type": "code",
   "execution_count": 51,
   "metadata": {},
   "outputs": [
    {
     "name": "stdout",
     "output_type": "stream",
     "text": [
      "Index(['address', 'areas', 'floors', 'id', 'is_commission', 'price',\n",
      "       'rooms_number', 'underground', 'underground_distance'],\n",
      "      dtype='object')\n"
     ]
    }
   ],
   "source": [
    "cols = df.columns\n",
    "print(cols)"
   ]
  },
  {
   "cell_type": "code",
   "execution_count": 52,
   "metadata": {},
   "outputs": [
    {
     "data": {
      "text/plain": [
       "28000     55\n",
       "25000     47\n",
       "27000     29\n",
       "30000     25\n",
       "26000     19\n",
       "29000     12\n",
       "23000      6\n",
       "24000      5\n",
       "250000     3\n",
       "60000      3\n",
       "Name: price, dtype: int64"
      ]
     },
     "execution_count": 52,
     "metadata": {},
     "output_type": "execute_result"
    }
   ],
   "source": [
    "# Частотное распределение данных в столбце цена\n",
    "df['price'].value_counts()[:10]"
   ]
  },
  {
   "cell_type": "markdown",
   "metadata": {},
   "source": [
    "## Работа с признаками"
   ]
  },
  {
   "cell_type": "code",
   "execution_count": 53,
   "metadata": {},
   "outputs": [
    {
     "data": {
      "text/plain": [
       "no            23\n",
       "Щелковская    13\n",
       "Выхино         8\n",
       "Name: underground, dtype: int64"
      ]
     },
     "execution_count": 53,
     "metadata": {},
     "output_type": "execute_result"
    }
   ],
   "source": [
    "# Undergroun\n",
    "df['underground'].fillna(u'no', inplace=True)\n",
    "df['underground'].value_counts()[:3]"
   ]
  },
  {
   "cell_type": "code",
   "execution_count": 54,
   "metadata": {},
   "outputs": [
    {
     "data": {
      "text/plain": [
       " 1    162\n",
       " 2     38\n",
       " 3     12\n",
       " 4      5\n",
       " 5      4\n",
       "-1      3\n",
       "Name: rooms_number, dtype: int64"
      ]
     },
     "execution_count": 54,
     "metadata": {},
     "output_type": "execute_result"
    }
   ],
   "source": [
    "df['rooms_number'].value_counts()"
   ]
  },
  {
   "cell_type": "code",
   "execution_count": 55,
   "metadata": {},
   "outputs": [],
   "source": [
    "# areas\n",
    "df['total_area'] = df['areas'].map(lambda x: x[0])\n",
    "df['kitchen_area'] = df['areas'].map(lambda x: x[1])\n",
    "df['living_area'] = df['areas'].map(lambda x: x[2])\n",
    "\n",
    "df = df.drop('areas', axis=1)"
   ]
  },
  {
   "cell_type": "code",
   "execution_count": 56,
   "metadata": {},
   "outputs": [
    {
     "data": {
      "text/plain": [
       "(48.625, 8.8518518518518512, 28.454128440366972)"
      ]
     },
     "execution_count": 56,
     "metadata": {},
     "output_type": "execute_result"
    }
   ],
   "source": [
    "# Average area of flat\n",
    "np.mean(df['total_area']), np.mean(df['kitchen_area']), np.mean(df['living_area'])"
   ]
  },
  {
   "cell_type": "code",
   "execution_count": 61,
   "metadata": {},
   "outputs": [
    {
     "data": {
      "image/png": "[encoded data removed]",
      "text/plain": [
       "<matplotlib.figure.Figure at 0x7f9156ed5ba8>"
      ]
     },
     "metadata": {},
     "output_type": "display_data"
    }
   ],
   "source": [
    "%matplotlib inline\n",
    "import seaborn as sns\n",
    "\n",
    "# Distribution\n",
    "sns.distplot(df['price']/1000);"
   ]
  },
  {
   "cell_type": "code",
   "execution_count": 62,
   "metadata": {},
   "outputs": [
    {
     "data": {
      "image/png": "[encoded data removed]",
      "text/plain": [
       "<matplotlib.figure.Figure at 0x7f914c9163c8>"
      ]
     },
     "metadata": {},
     "output_type": "display_data"
    }
   ],
   "source": [
    "# There are too few flats in the right\n",
    "# Will use only flats with price < 150000:\n",
    "df = df[df['price'] < 150000]\n",
    "\n",
    "# New Distribution\n",
    "sns.distplot(df['price']/1000);"
   ]
  },
  {
   "cell_type": "code",
   "execution_count": 67,
   "metadata": {},
   "outputs": [],
   "source": [
    "# areas\n",
    "df['current_floor'] = df['floors'].map(lambda x: x[0])\n",
    "df['total_floors'] = df['floors'].map(lambda x: x[1])\n",
    "\n",
    "df = df.drop('floors', axis=1)"
   ]
  },
  {
   "cell_type": "code",
   "execution_count": 70,
   "metadata": {},
   "outputs": [
    {
     "name": "stdout",
     "output_type": "stream",
     "text": [
      "<class 'pandas.core.frame.DataFrame'>\n",
      "Int64Index: 212 entries, 164526162 to 163595057\n",
      "Data columns (total 12 columns):\n",
      "address                 212 non-null object\n",
      "id                      212 non-null int64\n",
      "is_commission           212 non-null bool\n",
      "price                   212 non-null int64\n",
      "rooms_number            212 non-null int64\n",
      "underground             212 non-null object\n",
      "underground_distance    189 non-null float64\n",
      "total_area              212 non-null float64\n",
      "kitchen_area            208 non-null float64\n",
      "living_area             207 non-null float64\n",
      "current_floor           212 non-null int64\n",
      "total_floors            212 non-null int64\n",
      "dtypes: bool(1), float64(4), int64(5), object(2)\n",
      "memory usage: 30.1+ KB\n"
     ]
    }
   ],
   "source": [
    "# There is no null objects\n",
    "df.info()"
   ]
  },
  {
   "cell_type": "code",
   "execution_count": null,
   "metadata": {},
   "outputs": [],
   "source": [
    "# Create X and Y for data analys\n",
    "X = df.drop({'price', 'underground_distance', 'address'}, axis=1)\n",
    "Y = df['price']"
   ]
  }
 ],
 "metadata": {
  "kernelspec": {
   "display_name": "Python 3",
   "language": "python",
   "name": "python3"
  },
  "language_info": {
   "codemirror_mode": {
    "name": "ipython",
    "version": 3
   },
   "file_extension": ".py",
   "mimetype": "text/x-python",
   "name": "python",
   "nbconvert_exporter": "python",
   "pygments_lexer": "ipython3",
   "version": "3.5.3"
  }
 },
 "nbformat": 4,
 "nbformat_minor": 2
}
